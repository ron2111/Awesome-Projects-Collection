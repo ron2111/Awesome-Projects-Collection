{
  "nbformat": 4,
  "nbformat_minor": 0,
  "metadata": {
    "colab": {
      "name": "Perceptron-Ads.ipynb",
      "provenance": [],
      "collapsed_sections": []
    },
    "kernelspec": {
      "display_name": "Python 3",
      "name": "python3"
    },
    "language_info": {
      "name": "python"
    }
  },
  "cells": [
    {
      "cell_type": "markdown",
      "metadata": {
        "id": "0Kp4rXKeGGZ7"
      },
      "source": [
        "# Importing Necessary Libraries"
      ]
    },
    {
      "cell_type": "code",
      "metadata": {
        "id": "pJqOzomjGDwD"
      },
      "source": [
        "import numpy as np\n",
        "import pandas as pd\n",
        "import matplotlib.pyplot as plt\n",
        "import seaborn as sns"
      ],
      "execution_count": null,
      "outputs": []
    },
    {
      "cell_type": "markdown",
      "metadata": {
        "id": "4r_HQzPKGTvy"
      },
      "source": [
        "# Loading the Dataset\n"
      ]
    },
    {
      "cell_type": "code",
      "metadata": {
        "id": "mNpxe4ijGRtZ"
      },
      "source": [
        "df = pd.read_csv('/content/drive/MyDrive/Workshop/Social_Network_Ads.csv')"
      ],
      "execution_count": null,
      "outputs": []
    },
    {
      "cell_type": "markdown",
      "metadata": {
        "id": "oKBUBZysMIQX"
      },
      "source": [
        "#Data Visualization\n",
        "\n"
      ]
    },
    {
      "cell_type": "code",
      "metadata": {
        "id": "5mcTlaAwMZDb",
        "colab": {
          "base_uri": "https://localhost:8080/",
          "height": 203
        },
        "outputId": "c2524e96-6972-463c-a90d-599fbcf432e9"
      },
      "source": [
        "df.head(5)"
      ],
      "execution_count": null,
      "outputs": [
        {
          "output_type": "execute_result",
          "data": {
            "text/html": [
              "<div>\n",
              "<style scoped>\n",
              "    .dataframe tbody tr th:only-of-type {\n",
              "        vertical-align: middle;\n",
              "    }\n",
              "\n",
              "    .dataframe tbody tr th {\n",
              "        vertical-align: top;\n",
              "    }\n",
              "\n",
              "    .dataframe thead th {\n",
              "        text-align: right;\n",
              "    }\n",
              "</style>\n",
              "<table border=\"1\" class=\"dataframe\">\n",
              "  <thead>\n",
              "    <tr style=\"text-align: right;\">\n",
              "      <th></th>\n",
              "      <th>User ID</th>\n",
              "      <th>Gender</th>\n",
              "      <th>Age</th>\n",
              "      <th>EstimatedSalary</th>\n",
              "      <th>Purchased</th>\n",
              "    </tr>\n",
              "  </thead>\n",
              "  <tbody>\n",
              "    <tr>\n",
              "      <th>0</th>\n",
              "      <td>15624510</td>\n",
              "      <td>Male</td>\n",
              "      <td>19</td>\n",
              "      <td>19000</td>\n",
              "      <td>0</td>\n",
              "    </tr>\n",
              "    <tr>\n",
              "      <th>1</th>\n",
              "      <td>15810944</td>\n",
              "      <td>Male</td>\n",
              "      <td>35</td>\n",
              "      <td>20000</td>\n",
              "      <td>0</td>\n",
              "    </tr>\n",
              "    <tr>\n",
              "      <th>2</th>\n",
              "      <td>15668575</td>\n",
              "      <td>Female</td>\n",
              "      <td>26</td>\n",
              "      <td>43000</td>\n",
              "      <td>0</td>\n",
              "    </tr>\n",
              "    <tr>\n",
              "      <th>3</th>\n",
              "      <td>15603246</td>\n",
              "      <td>Female</td>\n",
              "      <td>27</td>\n",
              "      <td>57000</td>\n",
              "      <td>0</td>\n",
              "    </tr>\n",
              "    <tr>\n",
              "      <th>4</th>\n",
              "      <td>15804002</td>\n",
              "      <td>Male</td>\n",
              "      <td>19</td>\n",
              "      <td>76000</td>\n",
              "      <td>0</td>\n",
              "    </tr>\n",
              "  </tbody>\n",
              "</table>\n",
              "</div>"
            ],
            "text/plain": [
              "    User ID  Gender  Age  EstimatedSalary  Purchased\n",
              "0  15624510    Male   19            19000          0\n",
              "1  15810944    Male   35            20000          0\n",
              "2  15668575  Female   26            43000          0\n",
              "3  15603246  Female   27            57000          0\n",
              "4  15804002    Male   19            76000          0"
            ]
          },
          "metadata": {},
          "execution_count": 6
        }
      ]
    },
    {
      "cell_type": "code",
      "metadata": {
        "id": "UiZ3SMd2Mrpp",
        "colab": {
          "base_uri": "https://localhost:8080/"
        },
        "outputId": "6ea4755a-d34e-4416-bc18-80f48d004e77"
      },
      "source": [
        "df.info()"
      ],
      "execution_count": null,
      "outputs": [
        {
          "output_type": "stream",
          "name": "stdout",
          "text": [
            "<class 'pandas.core.frame.DataFrame'>\n",
            "RangeIndex: 400 entries, 0 to 399\n",
            "Data columns (total 5 columns):\n",
            " #   Column           Non-Null Count  Dtype \n",
            "---  ------           --------------  ----- \n",
            " 0   User ID          400 non-null    int64 \n",
            " 1   Gender           400 non-null    object\n",
            " 2   Age              400 non-null    int64 \n",
            " 3   EstimatedSalary  400 non-null    int64 \n",
            " 4   Purchased        400 non-null    int64 \n",
            "dtypes: int64(4), object(1)\n",
            "memory usage: 15.8+ KB\n"
          ]
        }
      ]
    },
    {
      "cell_type": "markdown",
      "metadata": {
        "id": "8O-QkFcDGo2S"
      },
      "source": [
        "# Seperating Input and Output Values\n"
      ]
    },
    {
      "cell_type": "code",
      "metadata": {
        "id": "bpP0Wh6qo6wX"
      },
      "source": [
        "x = df.iloc[:,[2,3]].values\n",
        "y = df.iloc[:,4].values"
      ],
      "execution_count": null,
      "outputs": []
    },
    {
      "cell_type": "markdown",
      "metadata": {
        "id": "AeWvEFDVO6R2"
      },
      "source": [
        "####We are considering  Age and Estimated Salary as Inputs and Purchased Column as Output "
      ]
    },
    {
      "cell_type": "code",
      "metadata": {
        "id": "lWPd72T8jshG",
        "colab": {
          "base_uri": "https://localhost:8080/"
        },
        "outputId": "90153e75-a42d-46b2-b565-1555138b9748"
      },
      "source": [
        "df['Purchased'].value_counts()"
      ],
      "execution_count": null,
      "outputs": [
        {
          "output_type": "execute_result",
          "data": {
            "text/plain": [
              "0    257\n",
              "1    143\n",
              "Name: Purchased, dtype: int64"
            ]
          },
          "metadata": {},
          "execution_count": 9
        }
      ]
    },
    {
      "cell_type": "markdown",
      "metadata": {
        "id": "rt1RpEOaGxNR"
      },
      "source": [
        "# Creating Training and Testing Dataset"
      ]
    },
    {
      "cell_type": "code",
      "metadata": {
        "id": "Gu4jxPmyo8Ph"
      },
      "source": [
        "from sklearn.model_selection import train_test_split\n",
        "x_train,x_test,y_train,y_test = train_test_split(x,y,random_state=1)"
      ],
      "execution_count": null,
      "outputs": []
    },
    {
      "cell_type": "markdown",
      "metadata": {
        "id": "HwUpUp58G5gq"
      },
      "source": [
        "# Importing Perceptron Model"
      ]
    },
    {
      "cell_type": "code",
      "metadata": {
        "id": "HAkcEs2io99c"
      },
      "source": [
        "from sklearn.linear_model import Perceptron\n",
        "model = Perceptron(eta0 =1, random_state = 165,penalty='l2',alpha=0.0038)"
      ],
      "execution_count": null,
      "outputs": []
    },
    {
      "cell_type": "markdown",
      "metadata": {
        "id": "9FgbnSP2HCkw"
      },
      "source": [
        "# Normalizing the Training and Testing Inputs\n"
      ]
    },
    {
      "cell_type": "code",
      "metadata": {
        "id": "wGR0-3xHpAmZ"
      },
      "source": [
        "from sklearn.preprocessing import MinMaxScaler\n",
        "scaler = MinMaxScaler()\n",
        "x_train = scaler.fit_transform(x_train)\n",
        "x_test  = scaler.fit_transform(x_test)"
      ],
      "execution_count": null,
      "outputs": []
    },
    {
      "cell_type": "markdown",
      "metadata": {
        "id": "_IHQsjj4o0Ki"
      },
      "source": [
        "###Formula Used for MinMax Scalar"
      ]
    },
    {
      "cell_type": "markdown",
      "metadata": {
        "id": "v5IfF1qLomQF"
      },
      "source": [
        "![Selection_060.png](data:image/png;base64,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)"
      ]
    },
    {
      "cell_type": "markdown",
      "metadata": {
        "id": "fNoPRirxHVax"
      },
      "source": [
        "# Fitting the Dataset and Training the Model"
      ]
    },
    {
      "cell_type": "code",
      "metadata": {
        "id": "0Eil9a00pCLp",
        "colab": {
          "base_uri": "https://localhost:8080/"
        },
        "outputId": "c8757c23-1cbe-44ba-8ad9-b8fec2b9a971"
      },
      "source": [
        "model.fit(x_train,y_train)"
      ],
      "execution_count": null,
      "outputs": [
        {
          "output_type": "execute_result",
          "data": {
            "text/plain": [
              "Perceptron(alpha=0.0038, class_weight=None, early_stopping=False, eta0=1,\n",
              "           fit_intercept=True, max_iter=1000, n_iter_no_change=5, n_jobs=None,\n",
              "           penalty='l2', random_state=165, shuffle=True, tol=0.001,\n",
              "           validation_fraction=0.1, verbose=0, warm_start=False)"
            ]
          },
          "metadata": {},
          "execution_count": 13
        }
      ]
    },
    {
      "cell_type": "markdown",
      "metadata": {
        "id": "pH8cxD_6Hg4R"
      },
      "source": [
        "# Prediction using Testing Dataset"
      ]
    },
    {
      "cell_type": "code",
      "metadata": {
        "id": "w5hLyWqpHmdT"
      },
      "source": [
        "y_pred = model.predict(x_test)"
      ],
      "execution_count": null,
      "outputs": []
    },
    {
      "cell_type": "markdown",
      "metadata": {
        "id": "nQOEKpjpHtIR"
      },
      "source": [
        "# Determining Accuracy of the Model"
      ]
    },
    {
      "cell_type": "code",
      "metadata": {
        "id": "hvUUpmcCpDlp",
        "colab": {
          "base_uri": "https://localhost:8080/"
        },
        "outputId": "30b759e4-36f5-4aad-c6be-c662de49918b"
      },
      "source": [
        "from sklearn.metrics import accuracy_score,classification_report,confusion_matrix\n",
        "print(f'The Accuracy of the Model is {accuracy_score(y_pred,y_test)}')\n",
        "print(classification_report(y_pred,y_test))"
      ],
      "execution_count": null,
      "outputs": [
        {
          "output_type": "stream",
          "name": "stdout",
          "text": [
            "The Accuracy of the Model is 0.88\n",
            "              precision    recall  f1-score   support\n",
            "\n",
            "           0       0.88      0.91      0.89        56\n",
            "           1       0.88      0.84      0.86        44\n",
            "\n",
            "    accuracy                           0.88       100\n",
            "   macro avg       0.88      0.88      0.88       100\n",
            "weighted avg       0.88      0.88      0.88       100\n",
            "\n"
          ]
        }
      ]
    },
    {
      "cell_type": "code",
      "metadata": {
        "id": "ePdyCDXq8nwv",
        "colab": {
          "base_uri": "https://localhost:8080/",
          "height": 265
        },
        "outputId": "1a6391fb-4e6e-4f8b-8d31-a4f3575c4f6a"
      },
      "source": [
        "sns.heatmap(confusion_matrix(y_pred, y_test), annot=True)\n",
        "plt.show()"
      ],
      "execution_count": null,
      "outputs": [
        {
          "output_type": "display_data",
          "data": {
            "image/png": "[encoded data removed]",
            "text/plain": [
              "<Figure size 432x288 with 2 Axes>"
            ]
          },
          "metadata": {
            "needs_background": "light"
          }
        }
      ]
    },
    {
      "cell_type": "markdown",
      "metadata": {
        "id": "Tf6K-NI8paiR"
      },
      "source": [
        "###Representation of a Confusion Matrix"
      ]
    },
    {
      "cell_type": "markdown",
      "metadata": {
        "id": "1WZReYgypU-Z"
      },
      "source": [
        "![1_LQ1YMKBlbDhH9K6Ujz8QTw.jpeg](data:image/jpeg;base64,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)"
      ]
    },
    {
      "cell_type": "markdown",
      "metadata": {
        "id": "ja-PybHeID7A"
      },
      "source": [
        "# Tuning the parameters of the Model"
      ]
    },
    {
      "cell_type": "code",
      "metadata": {
        "id": "pq_k0Sz4qHtr",
        "colab": {
          "base_uri": "https://localhost:8080/"
        },
        "outputId": "83d81d32-ffe6-44da-fc67-5a04d2bab63e"
      },
      "source": [
        "from sklearn.model_selection import GridSearchCV\n",
        "model =  Perceptron()\n",
        "param = {\n",
        "    'penalty' : ['l2','l1','elasticnet']\n",
        "}\n",
        "grid = GridSearchCV(model,param,cv=2)\n",
        "grid.fit(x_train,y_train)\n",
        "grid.best_params_"
      ],
      "execution_count": null,
      "outputs": [
        {
          "output_type": "execute_result",
          "data": {
            "text/plain": [
              "{'penalty': 'l2'}"
            ]
          },
          "metadata": {},
          "execution_count": 17
        }
      ]
    },
    {
      "cell_type": "code",
      "metadata": {
        "id": "AXYRlqNL6xpJ",
        "colab": {
          "base_uri": "https://localhost:8080/"
        },
        "outputId": "c0c11f69-cfec-4bc1-ca1c-f37c81893882"
      },
      "source": [
        "eta0 = list(range(1,10))\n",
        "alpha = list(range(1,50))\n",
        "random_state = list(range(150,170))\n",
        "for x in eta0:\n",
        "  for y in alpha:\n",
        "    for a in random_state:\n",
        "      model = Perceptron(eta0=x,alpha = y/10000,penalty='l2',random_state=a)\n",
        "      model.fit(x_train,y_train)\n",
        "      y_pred = model.predict(x_test)\n",
        "      acc = accuracy_score(y_pred,y_test)\n",
        "      if acc >= 0.88:\n",
        "        print(f'eta0 = {x} alpha = {y/10000}  random_state = {a} accuracy = {acc}')"
      ],
      "execution_count": null,
      "outputs": [
        {
          "output_type": "stream",
          "name": "stdout",
          "text": [
            "eta0 = 1 alpha = 0.0038  random_state = 165 accuracy = 0.88\n",
            "eta0 = 2 alpha = 0.0019  random_state = 165 accuracy = 0.88\n",
            "eta0 = 8 alpha = 0.0048  random_state = 163 accuracy = 0.88\n"
          ]
        }
      ]
    }
  ]
}