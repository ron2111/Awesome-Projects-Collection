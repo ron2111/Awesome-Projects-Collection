{
 "cells": [
  {
   "cell_type": "code",
   "execution_count": 1,
   "metadata": {},
   "outputs": [],
   "source": [
    "import json\n",
    "import time"
   ]
  },
  {
   "cell_type": "code",
   "execution_count": 2,
   "metadata": {},
   "outputs": [],
   "source": []
  },
  {
   "cell_type": "code",
   "execution_count": 3,
   "metadata": {},
   "outputs": [],
   "source": [
    "fd=open(\"records.json\",\"r\")\n",
    "txt=fd.read()\n",
    "fd.close()\n",
    "products=json.loads(txt)\n",
    "\n",
    "fd=open(\"sales.json\",\"r\")\n",
    "txt=fd.read()\n",
    "fd.close()\n",
    "sales=json.loads(txt)\n",
    "\n"
   ]
  },
  {
   "cell_type": "markdown",
   "metadata": {},
   "source": [
    "# Purchasing The Products"
   ]
  },
  {
   "cell_type": "code",
   "execution_count": 19,
   "metadata": {},
   "outputs": [
    {
     "name": "stdout",
     "output_type": "stream",
     "text": []
    }
   ],
   "source": [
    "print(\"*******************MENU*******************\")\n",
    "print(\"product_id    product_name\",end=\"\\n\\n\")\n",
    "for i in products.keys():\n",
    "    print(i,\"        \",products[i][\"Name\"])"
   ]
  },
  {
   "cell_type": "markdown",
   "metadata": {},
   "source": [
    "## Getting Product Id and quantity"
   ]
  },
  {
   "cell_type": "code",
   "execution_count": 30,
   "metadata": {},
   "outputs": [
    {
     "name": "stdout",
     "output_type": "stream",
     "text": [
      "Enter the product id :1020\n",
      "Enter The Quantity :1\n"
     ]
    }
   ],
   "source": [
    "user_id=input(\"Enter the product id :\")\n",
    "quantity=int(input(\"Enter The Quantity :\"))\n",
    "product_id=products.keys()\n",
    "\n",
    "if (user_id not in product_id):\n",
    "    print(\"Entered wrong Product Id \")\n",
    "    \n",
    "    \n",
    "    \n",
    "flag=0\n",
    "if(products[user_id][\"Quantity\"]<quantity):\n",
    "    print(\"The available quantity is :\" ,products[user_id][\"Quantity\"])\n",
    "    ans=int(input(\"Do you want to take these quantity(1-yes/0-No)\"))\n",
    "    if(ans):\n",
    "        print(\"The bill is processed!!\")\n",
    "        quantity=products[user_id][\"Quantity\"]\n",
    "        \n",
    "    else:\n",
    "        flag=1\n",
    "        print(\"choose any other product\")\n",
    "  \n",
    "products[user_id][\"Quantity\"]-=quantity\n",
    "   "
   ]
  },
  {
   "cell_type": "markdown",
   "metadata": {},
   "source": [
    "## Printing The Bill"
   ]
  },
  {
   "cell_type": "code",
   "execution_count": 32,
   "metadata": {},
   "outputs": [
    {
     "name": "stdout",
     "output_type": "stream",
     "text": []
    }
   ],
   "source": [
    "if(flag==0):\n",
    "    print(\"*************Bill***********\",end=\" \")\n",
    "    print(\"Time :\",time.ctime(),\"**********************\")\n",
    "    print(\"Product :\",products[user_id][\"Name\"])\n",
    "    print(\"Quanity :\",quantity)\n",
    "    print(\"Price :\",products[user_id][\"Price\"])\n",
    "    print(\"Billing Amount :\",products[user_id][\"Price\"]*quantity)\n",
    "    print(\"***********************************************************************************\")"
   ]
  },
  {
   "cell_type": "markdown",
   "metadata": {},
   "source": [
    "## Making Transaction Details"
   ]
  },
  {
   "cell_type": "code",
   "execution_count": 37,
   "metadata": {},
   "outputs": [],
   "source": [
    "trans_id=len(sales)+1\n",
    "trans_details=products[user_id].copy()\n",
    "trans_details['time']=time.ctime()\n",
    "trans_details['Quantity']=quantity\n",
    "sales[trans_id]=trans_details"
   ]
  },
  {
   "cell_type": "markdown",
   "metadata": {},
   "source": [
    "# Adding the products to the Inventory"
   ]
  },
  {
   "cell_type": "code",
   "execution_count": 35,
   "metadata": {},
   "outputs": [
    {
     "name": "stdout",
     "output_type": "stream",
     "text": [
      "To Add Product\n",
      "Enter the id of the product1030\n",
      "Enter the product Quantity10\n"
     ]
    }
   ],
   "source": [
    "print(\"To Add Product\")\n",
    "product_id=products.keys()\n",
    "new_id=input(\"Enter the id of the product\")\n",
    "if new_id in product_id:\n",
    "    qun=int(input(\"Enter the product Quantity\"))\n",
    "    products[new_id][\"Quantity\"]+=qun\n",
    "    print(\"Qunatity Added\")\n",
    "else:\n",
    "    nname=input(\"Enter the name of the product\")\n",
    "    nprice=int(input(\"enter the price\"))\n",
    "    nquantity=int(input(\"enter the quantity\"))\n",
    "    nbrand=input(\"Enter the brand of the product\")\n",
    "    medate=input(\"Enter the expiry date of the product\")\n",
    "    new_product[\"Name\"]=nname\n",
    "    new_product[\"Price\"]=nprice\n",
    "    new_product[\"Quantity\"]=nquantity\n",
    "    new_product[\"ExpiryDate\"]=medate\n",
    "    new_product[\"Brand\"]=nbrand\n",
    "    products[new_id]=new_product\n",
    "\n"
   ]
  },
  {
   "cell_type": "code",
   "execution_count": 36,
   "metadata": {},
   "outputs": [],
   "source": [
    "fd=open(\"records.json\",\"w\")\n",
    "jformat=json.dumps(products)\n",
    "fd.write(jformat)\n",
    "fd.close()"
   ]
  },
  {
   "cell_type": "code",
   "execution_count": 38,
   "metadata": {},
   "outputs": [],
   "source": [
    "fd=open(\"sales.json\",\"w\")\n",
    "jformat=json.dumps(sales)\n",
    "fd.write(jformat)\n",
    "fd.close()"
   ]
  },
  {
   "cell_type": "code",
   "execution_count": null,
   "metadata": {},
   "outputs": [],
   "source": []
  },
  {
   "cell_type": "code",
   "execution_count": null,
   "metadata": {},
   "outputs": [],
   "source": []
  }
 ],
 "metadata": {
  "kernelspec": {
   "display_name": "Python 3",
   "language": "python",
   "name": "python3"
  },
  "language_info": {
   "codemirror_mode": {
    "name": "ipython",
    "version": 3
   },
   "file_extension": ".py",
   "mimetype": "text/x-python",
   "name": "python",
   "nbconvert_exporter": "python",
   "pygments_lexer": "ipython3",
   "version": "3.7.6"
  }
 },
 "nbformat": 4,
 "nbformat_minor": 4
}
