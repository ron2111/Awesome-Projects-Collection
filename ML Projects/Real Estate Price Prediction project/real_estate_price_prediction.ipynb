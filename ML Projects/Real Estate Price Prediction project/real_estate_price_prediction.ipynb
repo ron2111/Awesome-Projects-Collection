{
  "nbformat": 4,
  "nbformat_minor": 0,
  "metadata": {
    "colab": {
      "name": "real_estate_price_prediction.ipynb",
      "provenance": []
    },
    "kernelspec": {
      "name": "python3",
      "display_name": "Python 3"
    },
    "language_info": {
      "name": "python"
    }
  },
  "cells": [
    {
      "cell_type": "markdown",
      "metadata": {
        "id": "HwvGqvBct0bJ"
      },
      "source": [
        "# **Real Estate Price Prediction**\n",
        "- For Real Estate Price Prediction, we'll be using following algorithms:\n",
        " 1. Linear Regression\n",
        " 2. Decision Tree Regressor\n",
        " 3. Random Forest Regressor\n",
        "\n",
        "- Following steps are followed:\n",
        "1.  **Data preprocessing and exploration** to understand what kind of data will we working on.\n",
        "2.  **Data Visualization** to draw insights and get better underdstanding on different columns present in the dataset.\n",
        "3.  **Data Training** using train-test-split method from sklearn to split the data into training and testing data & **Model Creation** using different algorithms.\n",
        "4.  Checking performance by **error and accuracy check** to find which algorithm is more  efficient algorithm for this project.\n",
        "\n",
        "\n",
        "For the dataset being used [Click here](https://www.kaggle.com/quantbruce/real-estate-price-prediction)\n",
        "\n"
      ]
    },
    {
      "cell_type": "markdown",
      "metadata": {
        "id": "e8OiuK1RwbYi"
      },
      "source": [
        "### Data preprocessing and exploration"
      ]
    },
    {
      "cell_type": "code",
      "metadata": {
        "id": "iVomiWnZtxAe"
      },
      "source": [
        "#importing pandas library.\n",
        "import pandas as pd"
      ],
      "execution_count": 1,
      "outputs": []
    },
    {
      "cell_type": "code",
      "metadata": {
        "colab": {
          "base_uri": "https://localhost:8080/",
          "height": 432
        },
        "id": "MvKUlFBLwoVZ",
        "outputId": "c879db9d-79ae-4332-a744-608053d67228"
      },
      "source": [
        "#loading and reading data through following\n",
        "data=pd.read_csv('/content/Real estate.csv')\n",
        "data"
      ],
      "execution_count": 2,
      "outputs": [
        {
          "output_type": "execute_result",
          "data": {
            "text/html": [
              "<div>\n",
              "<style scoped>\n",
              "    .dataframe tbody tr th:only-of-type {\n",
              "        vertical-align: middle;\n",
              "    }\n",
              "\n",
              "    .dataframe tbody tr th {\n",
              "        vertical-align: top;\n",
              "    }\n",
              "\n",
              "    .dataframe thead th {\n",
              "        text-align: right;\n",
              "    }\n",
              "</style>\n",
              "<table border=\"1\" class=\"dataframe\">\n",
              "  <thead>\n",
              "    <tr style=\"text-align: right;\">\n",
              "      <th></th>\n",
              "      <th>No</th>\n",
              "      <th>X1 transaction date</th>\n",
              "      <th>X2 house age</th>\n",
              "      <th>X3 distance to the nearest MRT station</th>\n",
              "      <th>X4 number of convenience stores</th>\n",
              "      <th>X5 latitude</th>\n",
              "      <th>X6 longitude</th>\n",
              "      <th>Y house price of unit area</th>\n",
              "    </tr>\n",
              "  </thead>\n",
              "  <tbody>\n",
              "    <tr>\n",
              "      <th>0</th>\n",
              "      <td>1</td>\n",
              "      <td>2012.917</td>\n",
              "      <td>32.0</td>\n",
              "      <td>84.87882</td>\n",
              "      <td>10</td>\n",
              "      <td>24.98298</td>\n",
              "      <td>121.54024</td>\n",
              "      <td>37.9</td>\n",
              "    </tr>\n",
              "    <tr>\n",
              "      <th>1</th>\n",
              "      <td>2</td>\n",
              "      <td>2012.917</td>\n",
              "      <td>19.5</td>\n",
              "      <td>306.59470</td>\n",
              "      <td>9</td>\n",
              "      <td>24.98034</td>\n",
              "      <td>121.53951</td>\n",
              "      <td>42.2</td>\n",
              "    </tr>\n",
              "    <tr>\n",
              "      <th>2</th>\n",
              "      <td>3</td>\n",
              "      <td>2013.583</td>\n",
              "      <td>13.3</td>\n",
              "      <td>561.98450</td>\n",
              "      <td>5</td>\n",
              "      <td>24.98746</td>\n",
              "      <td>121.54391</td>\n",
              "      <td>47.3</td>\n",
              "    </tr>\n",
              "    <tr>\n",
              "      <th>3</th>\n",
              "      <td>4</td>\n",
              "      <td>2013.500</td>\n",
              "      <td>13.3</td>\n",
              "      <td>561.98450</td>\n",
              "      <td>5</td>\n",
              "      <td>24.98746</td>\n",
              "      <td>121.54391</td>\n",
              "      <td>54.8</td>\n",
              "    </tr>\n",
              "    <tr>\n",
              "      <th>4</th>\n",
              "      <td>5</td>\n",
              "      <td>2012.833</td>\n",
              "      <td>5.0</td>\n",
              "      <td>390.56840</td>\n",
              "      <td>5</td>\n",
              "      <td>24.97937</td>\n",
              "      <td>121.54245</td>\n",
              "      <td>43.1</td>\n",
              "    </tr>\n",
              "    <tr>\n",
              "      <th>...</th>\n",
              "      <td>...</td>\n",
              "      <td>...</td>\n",
              "      <td>...</td>\n",
              "      <td>...</td>\n",
              "      <td>...</td>\n",
              "      <td>...</td>\n",
              "      <td>...</td>\n",
              "      <td>...</td>\n",
              "    </tr>\n",
              "    <tr>\n",
              "      <th>409</th>\n",
              "      <td>410</td>\n",
              "      <td>2013.000</td>\n",
              "      <td>13.7</td>\n",
              "      <td>4082.01500</td>\n",
              "      <td>0</td>\n",
              "      <td>24.94155</td>\n",
              "      <td>121.50381</td>\n",
              "      <td>15.4</td>\n",
              "    </tr>\n",
              "    <tr>\n",
              "      <th>410</th>\n",
              "      <td>411</td>\n",
              "      <td>2012.667</td>\n",
              "      <td>5.6</td>\n",
              "      <td>90.45606</td>\n",
              "      <td>9</td>\n",
              "      <td>24.97433</td>\n",
              "      <td>121.54310</td>\n",
              "      <td>50.0</td>\n",
              "    </tr>\n",
              "    <tr>\n",
              "      <th>411</th>\n",
              "      <td>412</td>\n",
              "      <td>2013.250</td>\n",
              "      <td>18.8</td>\n",
              "      <td>390.96960</td>\n",
              "      <td>7</td>\n",
              "      <td>24.97923</td>\n",
              "      <td>121.53986</td>\n",
              "      <td>40.6</td>\n",
              "    </tr>\n",
              "    <tr>\n",
              "      <th>412</th>\n",
              "      <td>413</td>\n",
              "      <td>2013.000</td>\n",
              "      <td>8.1</td>\n",
              "      <td>104.81010</td>\n",
              "      <td>5</td>\n",
              "      <td>24.96674</td>\n",
              "      <td>121.54067</td>\n",
              "      <td>52.5</td>\n",
              "    </tr>\n",
              "    <tr>\n",
              "      <th>413</th>\n",
              "      <td>414</td>\n",
              "      <td>2013.500</td>\n",
              "      <td>6.5</td>\n",
              "      <td>90.45606</td>\n",
              "      <td>9</td>\n",
              "      <td>24.97433</td>\n",
              "      <td>121.54310</td>\n",
              "      <td>63.9</td>\n",
              "    </tr>\n",
              "  </tbody>\n",
              "</table>\n",
              "<p>414 rows × 8 columns</p>\n",
              "</div>"
            ],
            "text/plain": [
              "      No  X1 transaction date  ...  X6 longitude  Y house price of unit area\n",
              "0      1             2012.917  ...     121.54024                        37.9\n",
              "1      2             2012.917  ...     121.53951                        42.2\n",
              "2      3             2013.583  ...     121.54391                        47.3\n",
              "3      4             2013.500  ...     121.54391                        54.8\n",
              "4      5             2012.833  ...     121.54245                        43.1\n",
              "..   ...                  ...  ...           ...                         ...\n",
              "409  410             2013.000  ...     121.50381                        15.4\n",
              "410  411             2012.667  ...     121.54310                        50.0\n",
              "411  412             2013.250  ...     121.53986                        40.6\n",
              "412  413             2013.000  ...     121.54067                        52.5\n",
              "413  414             2013.500  ...     121.54310                        63.9\n",
              "\n",
              "[414 rows x 8 columns]"
            ]
          },
          "metadata": {
            "tags": []
          },
          "execution_count": 2
        }
      ]
    },
    {
      "cell_type": "code",
      "metadata": {
        "colab": {
          "base_uri": "https://localhost:8080/"
        },
        "id": "xoe588oJw1qh",
        "outputId": "88b5eb61-09f7-47e3-89a0-042e03484b09"
      },
      "source": [
        "#to view shape of the dataset i.e. total number of rows and columns.\n",
        "data.shape"
      ],
      "execution_count": 3,
      "outputs": [
        {
          "output_type": "execute_result",
          "data": {
            "text/plain": [
              "(414, 8)"
            ]
          },
          "metadata": {
            "tags": []
          },
          "execution_count": 3
        }
      ]
    },
    {
      "cell_type": "markdown",
      "metadata": {
        "id": "7GdIHoGTxJ1j"
      },
      "source": [
        "The data has 414 rows and 8 columns in total."
      ]
    },
    {
      "cell_type": "code",
      "metadata": {
        "colab": {
          "base_uri": "https://localhost:8080/",
          "height": 219
        },
        "id": "qcvDYZkBxI6m",
        "outputId": "92a3e0b2-dedb-46d4-cf11-524a356eb478"
      },
      "source": [
        "#to view first 5 rows of the dataset.\n",
        "data.head()"
      ],
      "execution_count": 4,
      "outputs": [
        {
          "output_type": "execute_result",
          "data": {
            "text/html": [
              "<div>\n",
              "<style scoped>\n",
              "    .dataframe tbody tr th:only-of-type {\n",
              "        vertical-align: middle;\n",
              "    }\n",
              "\n",
              "    .dataframe tbody tr th {\n",
              "        vertical-align: top;\n",
              "    }\n",
              "\n",
              "    .dataframe thead th {\n",
              "        text-align: right;\n",
              "    }\n",
              "</style>\n",
              "<table border=\"1\" class=\"dataframe\">\n",
              "  <thead>\n",
              "    <tr style=\"text-align: right;\">\n",
              "      <th></th>\n",
              "      <th>No</th>\n",
              "      <th>X1 transaction date</th>\n",
              "      <th>X2 house age</th>\n",
              "      <th>X3 distance to the nearest MRT station</th>\n",
              "      <th>X4 number of convenience stores</th>\n",
              "      <th>X5 latitude</th>\n",
              "      <th>X6 longitude</th>\n",
              "      <th>Y house price of unit area</th>\n",
              "    </tr>\n",
              "  </thead>\n",
              "  <tbody>\n",
              "    <tr>\n",
              "      <th>0</th>\n",
              "      <td>1</td>\n",
              "      <td>2012.917</td>\n",
              "      <td>32.0</td>\n",
              "      <td>84.87882</td>\n",
              "      <td>10</td>\n",
              "      <td>24.98298</td>\n",
              "      <td>121.54024</td>\n",
              "      <td>37.9</td>\n",
              "    </tr>\n",
              "    <tr>\n",
              "      <th>1</th>\n",
              "      <td>2</td>\n",
              "      <td>2012.917</td>\n",
              "      <td>19.5</td>\n",
              "      <td>306.59470</td>\n",
              "      <td>9</td>\n",
              "      <td>24.98034</td>\n",
              "      <td>121.53951</td>\n",
              "      <td>42.2</td>\n",
              "    </tr>\n",
              "    <tr>\n",
              "      <th>2</th>\n",
              "      <td>3</td>\n",
              "      <td>2013.583</td>\n",
              "      <td>13.3</td>\n",
              "      <td>561.98450</td>\n",
              "      <td>5</td>\n",
              "      <td>24.98746</td>\n",
              "      <td>121.54391</td>\n",
              "      <td>47.3</td>\n",
              "    </tr>\n",
              "    <tr>\n",
              "      <th>3</th>\n",
              "      <td>4</td>\n",
              "      <td>2013.500</td>\n",
              "      <td>13.3</td>\n",
              "      <td>561.98450</td>\n",
              "      <td>5</td>\n",
              "      <td>24.98746</td>\n",
              "      <td>121.54391</td>\n",
              "      <td>54.8</td>\n",
              "    </tr>\n",
              "    <tr>\n",
              "      <th>4</th>\n",
              "      <td>5</td>\n",
              "      <td>2012.833</td>\n",
              "      <td>5.0</td>\n",
              "      <td>390.56840</td>\n",
              "      <td>5</td>\n",
              "      <td>24.97937</td>\n",
              "      <td>121.54245</td>\n",
              "      <td>43.1</td>\n",
              "    </tr>\n",
              "  </tbody>\n",
              "</table>\n",
              "</div>"
            ],
            "text/plain": [
              "   No  X1 transaction date  ...  X6 longitude  Y house price of unit area\n",
              "0   1             2012.917  ...     121.54024                        37.9\n",
              "1   2             2012.917  ...     121.53951                        42.2\n",
              "2   3             2013.583  ...     121.54391                        47.3\n",
              "3   4             2013.500  ...     121.54391                        54.8\n",
              "4   5             2012.833  ...     121.54245                        43.1\n",
              "\n",
              "[5 rows x 8 columns]"
            ]
          },
          "metadata": {
            "tags": []
          },
          "execution_count": 4
        }
      ]
    },
    {
      "cell_type": "code",
      "metadata": {
        "colab": {
          "base_uri": "https://localhost:8080/",
          "height": 219
        },
        "id": "OiJmcy81xXOV",
        "outputId": "e261d482-d575-4f81-aee3-5bd6807d20d7"
      },
      "source": [
        "#to view last 5 rows of the dataset.\n",
        "data.tail()"
      ],
      "execution_count": 5,
      "outputs": [
        {
          "output_type": "execute_result",
          "data": {
            "text/html": [
              "<div>\n",
              "<style scoped>\n",
              "    .dataframe tbody tr th:only-of-type {\n",
              "        vertical-align: middle;\n",
              "    }\n",
              "\n",
              "    .dataframe tbody tr th {\n",
              "        vertical-align: top;\n",
              "    }\n",
              "\n",
              "    .dataframe thead th {\n",
              "        text-align: right;\n",
              "    }\n",
              "</style>\n",
              "<table border=\"1\" class=\"dataframe\">\n",
              "  <thead>\n",
              "    <tr style=\"text-align: right;\">\n",
              "      <th></th>\n",
              "      <th>No</th>\n",
              "      <th>X1 transaction date</th>\n",
              "      <th>X2 house age</th>\n",
              "      <th>X3 distance to the nearest MRT station</th>\n",
              "      <th>X4 number of convenience stores</th>\n",
              "      <th>X5 latitude</th>\n",
              "      <th>X6 longitude</th>\n",
              "      <th>Y house price of unit area</th>\n",
              "    </tr>\n",
              "  </thead>\n",
              "  <tbody>\n",
              "    <tr>\n",
              "      <th>409</th>\n",
              "      <td>410</td>\n",
              "      <td>2013.000</td>\n",
              "      <td>13.7</td>\n",
              "      <td>4082.01500</td>\n",
              "      <td>0</td>\n",
              "      <td>24.94155</td>\n",
              "      <td>121.50381</td>\n",
              "      <td>15.4</td>\n",
              "    </tr>\n",
              "    <tr>\n",
              "      <th>410</th>\n",
              "      <td>411</td>\n",
              "      <td>2012.667</td>\n",
              "      <td>5.6</td>\n",
              "      <td>90.45606</td>\n",
              "      <td>9</td>\n",
              "      <td>24.97433</td>\n",
              "      <td>121.54310</td>\n",
              "      <td>50.0</td>\n",
              "    </tr>\n",
              "    <tr>\n",
              "      <th>411</th>\n",
              "      <td>412</td>\n",
              "      <td>2013.250</td>\n",
              "      <td>18.8</td>\n",
              "      <td>390.96960</td>\n",
              "      <td>7</td>\n",
              "      <td>24.97923</td>\n",
              "      <td>121.53986</td>\n",
              "      <td>40.6</td>\n",
              "    </tr>\n",
              "    <tr>\n",
              "      <th>412</th>\n",
              "      <td>413</td>\n",
              "      <td>2013.000</td>\n",
              "      <td>8.1</td>\n",
              "      <td>104.81010</td>\n",
              "      <td>5</td>\n",
              "      <td>24.96674</td>\n",
              "      <td>121.54067</td>\n",
              "      <td>52.5</td>\n",
              "    </tr>\n",
              "    <tr>\n",
              "      <th>413</th>\n",
              "      <td>414</td>\n",
              "      <td>2013.500</td>\n",
              "      <td>6.5</td>\n",
              "      <td>90.45606</td>\n",
              "      <td>9</td>\n",
              "      <td>24.97433</td>\n",
              "      <td>121.54310</td>\n",
              "      <td>63.9</td>\n",
              "    </tr>\n",
              "  </tbody>\n",
              "</table>\n",
              "</div>"
            ],
            "text/plain": [
              "      No  X1 transaction date  ...  X6 longitude  Y house price of unit area\n",
              "409  410             2013.000  ...     121.50381                        15.4\n",
              "410  411             2012.667  ...     121.54310                        50.0\n",
              "411  412             2013.250  ...     121.53986                        40.6\n",
              "412  413             2013.000  ...     121.54067                        52.5\n",
              "413  414             2013.500  ...     121.54310                        63.9\n",
              "\n",
              "[5 rows x 8 columns]"
            ]
          },
          "metadata": {
            "tags": []
          },
          "execution_count": 5
        }
      ]
    },
    {
      "cell_type": "code",
      "metadata": {
        "colab": {
          "base_uri": "https://localhost:8080/"
        },
        "id": "cMnLSf2BxbA5",
        "outputId": "92e6445c-c66c-4ee5-dbe7-78b6d21858f0"
      },
      "source": [
        "#to view different columns of the dataset.\n",
        "data.columns"
      ],
      "execution_count": 6,
      "outputs": [
        {
          "output_type": "execute_result",
          "data": {
            "text/plain": [
              "Index(['No', 'X1 transaction date', 'X2 house age',\n",
              "       'X3 distance to the nearest MRT station',\n",
              "       'X4 number of convenience stores', 'X5 latitude', 'X6 longitude',\n",
              "       'Y house price of unit area'],\n",
              "      dtype='object')"
            ]
          },
          "metadata": {
            "tags": []
          },
          "execution_count": 6
        }
      ]
    },
    {
      "cell_type": "code",
      "metadata": {
        "colab": {
          "base_uri": "https://localhost:8080/"
        },
        "id": "VnsH801Cx5u9",
        "outputId": "54a5ebe4-b004-4040-fa74-5552bf55ca73"
      },
      "source": [
        "#to view memory usage, non-null values, datatypes of columns.\n",
        "data.info()"
      ],
      "execution_count": 7,
      "outputs": [
        {
          "output_type": "stream",
          "text": [
            "<class 'pandas.core.frame.DataFrame'>\n",
            "RangeIndex: 414 entries, 0 to 413\n",
            "Data columns (total 8 columns):\n",
            " #   Column                                  Non-Null Count  Dtype  \n",
            "---  ------                                  --------------  -----  \n",
            " 0   No                                      414 non-null    int64  \n",
            " 1   X1 transaction date                     414 non-null    float64\n",
            " 2   X2 house age                            414 non-null    float64\n",
            " 3   X3 distance to the nearest MRT station  414 non-null    float64\n",
            " 4   X4 number of convenience stores         414 non-null    int64  \n",
            " 5   X5 latitude                             414 non-null    float64\n",
            " 6   X6 longitude                            414 non-null    float64\n",
            " 7   Y house price of unit area              414 non-null    float64\n",
            "dtypes: float64(6), int64(2)\n",
            "memory usage: 26.0 KB\n"
          ],
          "name": "stdout"
        }
      ]
    },
    {
      "cell_type": "code",
      "metadata": {
        "colab": {
          "base_uri": "https://localhost:8080/",
          "height": 311
        },
        "id": "7Aog9tujyMSi",
        "outputId": "80fa059f-3e2b-43c3-cb8b-fd7b6e8bf9a6"
      },
      "source": [
        "#to view statistical summary of the dataset.\n",
        "data.describe()"
      ],
      "execution_count": 8,
      "outputs": [
        {
          "output_type": "execute_result",
          "data": {
            "text/html": [
              "<div>\n",
              "<style scoped>\n",
              "    .dataframe tbody tr th:only-of-type {\n",
              "        vertical-align: middle;\n",
              "    }\n",
              "\n",
              "    .dataframe tbody tr th {\n",
              "        vertical-align: top;\n",
              "    }\n",
              "\n",
              "    .dataframe thead th {\n",
              "        text-align: right;\n",
              "    }\n",
              "</style>\n",
              "<table border=\"1\" class=\"dataframe\">\n",
              "  <thead>\n",
              "    <tr style=\"text-align: right;\">\n",
              "      <th></th>\n",
              "      <th>No</th>\n",
              "      <th>X1 transaction date</th>\n",
              "      <th>X2 house age</th>\n",
              "      <th>X3 distance to the nearest MRT station</th>\n",
              "      <th>X4 number of convenience stores</th>\n",
              "      <th>X5 latitude</th>\n",
              "      <th>X6 longitude</th>\n",
              "      <th>Y house price of unit area</th>\n",
              "    </tr>\n",
              "  </thead>\n",
              "  <tbody>\n",
              "    <tr>\n",
              "      <th>count</th>\n",
              "      <td>414.000000</td>\n",
              "      <td>414.000000</td>\n",
              "      <td>414.000000</td>\n",
              "      <td>414.000000</td>\n",
              "      <td>414.000000</td>\n",
              "      <td>414.000000</td>\n",
              "      <td>414.000000</td>\n",
              "      <td>414.000000</td>\n",
              "    </tr>\n",
              "    <tr>\n",
              "      <th>mean</th>\n",
              "      <td>207.500000</td>\n",
              "      <td>2013.148971</td>\n",
              "      <td>17.712560</td>\n",
              "      <td>1083.885689</td>\n",
              "      <td>4.094203</td>\n",
              "      <td>24.969030</td>\n",
              "      <td>121.533361</td>\n",
              "      <td>37.980193</td>\n",
              "    </tr>\n",
              "    <tr>\n",
              "      <th>std</th>\n",
              "      <td>119.655756</td>\n",
              "      <td>0.281967</td>\n",
              "      <td>11.392485</td>\n",
              "      <td>1262.109595</td>\n",
              "      <td>2.945562</td>\n",
              "      <td>0.012410</td>\n",
              "      <td>0.015347</td>\n",
              "      <td>13.606488</td>\n",
              "    </tr>\n",
              "    <tr>\n",
              "      <th>min</th>\n",
              "      <td>1.000000</td>\n",
              "      <td>2012.667000</td>\n",
              "      <td>0.000000</td>\n",
              "      <td>23.382840</td>\n",
              "      <td>0.000000</td>\n",
              "      <td>24.932070</td>\n",
              "      <td>121.473530</td>\n",
              "      <td>7.600000</td>\n",
              "    </tr>\n",
              "    <tr>\n",
              "      <th>25%</th>\n",
              "      <td>104.250000</td>\n",
              "      <td>2012.917000</td>\n",
              "      <td>9.025000</td>\n",
              "      <td>289.324800</td>\n",
              "      <td>1.000000</td>\n",
              "      <td>24.963000</td>\n",
              "      <td>121.528085</td>\n",
              "      <td>27.700000</td>\n",
              "    </tr>\n",
              "    <tr>\n",
              "      <th>50%</th>\n",
              "      <td>207.500000</td>\n",
              "      <td>2013.167000</td>\n",
              "      <td>16.100000</td>\n",
              "      <td>492.231300</td>\n",
              "      <td>4.000000</td>\n",
              "      <td>24.971100</td>\n",
              "      <td>121.538630</td>\n",
              "      <td>38.450000</td>\n",
              "    </tr>\n",
              "    <tr>\n",
              "      <th>75%</th>\n",
              "      <td>310.750000</td>\n",
              "      <td>2013.417000</td>\n",
              "      <td>28.150000</td>\n",
              "      <td>1454.279000</td>\n",
              "      <td>6.000000</td>\n",
              "      <td>24.977455</td>\n",
              "      <td>121.543305</td>\n",
              "      <td>46.600000</td>\n",
              "    </tr>\n",
              "    <tr>\n",
              "      <th>max</th>\n",
              "      <td>414.000000</td>\n",
              "      <td>2013.583000</td>\n",
              "      <td>43.800000</td>\n",
              "      <td>6488.021000</td>\n",
              "      <td>10.000000</td>\n",
              "      <td>25.014590</td>\n",
              "      <td>121.566270</td>\n",
              "      <td>117.500000</td>\n",
              "    </tr>\n",
              "  </tbody>\n",
              "</table>\n",
              "</div>"
            ],
            "text/plain": [
              "               No  ...  Y house price of unit area\n",
              "count  414.000000  ...                  414.000000\n",
              "mean   207.500000  ...                   37.980193\n",
              "std    119.655756  ...                   13.606488\n",
              "min      1.000000  ...                    7.600000\n",
              "25%    104.250000  ...                   27.700000\n",
              "50%    207.500000  ...                   38.450000\n",
              "75%    310.750000  ...                   46.600000\n",
              "max    414.000000  ...                  117.500000\n",
              "\n",
              "[8 rows x 8 columns]"
            ]
          },
          "metadata": {
            "tags": []
          },
          "execution_count": 8
        }
      ]
    },
    {
      "cell_type": "code",
      "metadata": {
        "colab": {
          "base_uri": "https://localhost:8080/"
        },
        "id": "a0YT2w6jyUuD",
        "outputId": "622ad386-5093-4a63-9521-bf321ffde33e"
      },
      "source": [
        "#to check for any missing or null values in the dataset.\n",
        "data.isnull().sum()"
      ],
      "execution_count": 9,
      "outputs": [
        {
          "output_type": "execute_result",
          "data": {
            "text/plain": [
              "No                                        0\n",
              "X1 transaction date                       0\n",
              "X2 house age                              0\n",
              "X3 distance to the nearest MRT station    0\n",
              "X4 number of convenience stores           0\n",
              "X5 latitude                               0\n",
              "X6 longitude                              0\n",
              "Y house price of unit area                0\n",
              "dtype: int64"
            ]
          },
          "metadata": {
            "tags": []
          },
          "execution_count": 9
        }
      ]
    },
    {
      "cell_type": "markdown",
      "metadata": {
        "id": "r0EDJXjzyl0J"
      },
      "source": [
        "This displays the number of null values in the respective column."
      ]
    },
    {
      "cell_type": "code",
      "metadata": {
        "colab": {
          "base_uri": "https://localhost:8080/"
        },
        "id": "qF5aFtCFyj48",
        "outputId": "20bfbfb8-45c8-4f13-ff64-59d04e7e1ffc"
      },
      "source": [
        "#to view total null values in the dataset.\n",
        "data.isnull().sum().sum()"
      ],
      "execution_count": 10,
      "outputs": [
        {
          "output_type": "execute_result",
          "data": {
            "text/plain": [
              "0"
            ]
          },
          "metadata": {
            "tags": []
          },
          "execution_count": 10
        }
      ]
    },
    {
      "cell_type": "markdown",
      "metadata": {
        "id": "m4sbmlx8y-lG"
      },
      "source": [
        "This means that the dataset has no null values i.e. dataset is cleaned and proper.\n",
        "\n",
        "We can now proceed with further steps."
      ]
    },
    {
      "cell_type": "code",
      "metadata": {
        "colab": {
          "base_uri": "https://localhost:8080/",
          "height": 219
        },
        "id": "eXyP6nYK3VbE",
        "outputId": "aaa1ef5e-cda2-46cc-8252-90dce199ce3e"
      },
      "source": [
        "#converting data into int datatype to avoid errors below.\n",
        "prepareddata=data.astype(int)\n",
        "prepareddata.head()"
      ],
      "execution_count": 32,
      "outputs": [
        {
          "output_type": "execute_result",
          "data": {
            "text/html": [
              "<div>\n",
              "<style scoped>\n",
              "    .dataframe tbody tr th:only-of-type {\n",
              "        vertical-align: middle;\n",
              "    }\n",
              "\n",
              "    .dataframe tbody tr th {\n",
              "        vertical-align: top;\n",
              "    }\n",
              "\n",
              "    .dataframe thead th {\n",
              "        text-align: right;\n",
              "    }\n",
              "</style>\n",
              "<table border=\"1\" class=\"dataframe\">\n",
              "  <thead>\n",
              "    <tr style=\"text-align: right;\">\n",
              "      <th></th>\n",
              "      <th>No</th>\n",
              "      <th>X1 transaction date</th>\n",
              "      <th>X2 house age</th>\n",
              "      <th>X3 distance to the nearest MRT station</th>\n",
              "      <th>X4 number of convenience stores</th>\n",
              "      <th>X5 latitude</th>\n",
              "      <th>X6 longitude</th>\n",
              "      <th>Y house price of unit area</th>\n",
              "    </tr>\n",
              "  </thead>\n",
              "  <tbody>\n",
              "    <tr>\n",
              "      <th>0</th>\n",
              "      <td>1</td>\n",
              "      <td>2012</td>\n",
              "      <td>32</td>\n",
              "      <td>84</td>\n",
              "      <td>10</td>\n",
              "      <td>24</td>\n",
              "      <td>121</td>\n",
              "      <td>37</td>\n",
              "    </tr>\n",
              "    <tr>\n",
              "      <th>1</th>\n",
              "      <td>2</td>\n",
              "      <td>2012</td>\n",
              "      <td>19</td>\n",
              "      <td>306</td>\n",
              "      <td>9</td>\n",
              "      <td>24</td>\n",
              "      <td>121</td>\n",
              "      <td>42</td>\n",
              "    </tr>\n",
              "    <tr>\n",
              "      <th>2</th>\n",
              "      <td>3</td>\n",
              "      <td>2013</td>\n",
              "      <td>13</td>\n",
              "      <td>561</td>\n",
              "      <td>5</td>\n",
              "      <td>24</td>\n",
              "      <td>121</td>\n",
              "      <td>47</td>\n",
              "    </tr>\n",
              "    <tr>\n",
              "      <th>3</th>\n",
              "      <td>4</td>\n",
              "      <td>2013</td>\n",
              "      <td>13</td>\n",
              "      <td>561</td>\n",
              "      <td>5</td>\n",
              "      <td>24</td>\n",
              "      <td>121</td>\n",
              "      <td>54</td>\n",
              "    </tr>\n",
              "    <tr>\n",
              "      <th>4</th>\n",
              "      <td>5</td>\n",
              "      <td>2012</td>\n",
              "      <td>5</td>\n",
              "      <td>390</td>\n",
              "      <td>5</td>\n",
              "      <td>24</td>\n",
              "      <td>121</td>\n",
              "      <td>43</td>\n",
              "    </tr>\n",
              "  </tbody>\n",
              "</table>\n",
              "</div>"
            ],
            "text/plain": [
              "   No  X1 transaction date  ...  X6 longitude  Y house price of unit area\n",
              "0   1                 2012  ...           121                          37\n",
              "1   2                 2012  ...           121                          42\n",
              "2   3                 2013  ...           121                          47\n",
              "3   4                 2013  ...           121                          54\n",
              "4   5                 2012  ...           121                          43\n",
              "\n",
              "[5 rows x 8 columns]"
            ]
          },
          "metadata": {
            "tags": []
          },
          "execution_count": 32
        }
      ]
    },
    {
      "cell_type": "markdown",
      "metadata": {
        "id": "GCXgI3L1zPFD"
      },
      "source": [
        "### Data Visualization."
      ]
    },
    {
      "cell_type": "code",
      "metadata": {
        "id": "U1fym32Ay9tN"
      },
      "source": [
        "# importing libaries for data visualization.\n",
        "import matplotlib.pyplot as plt\n",
        "%matplotlib inline\n",
        "import seaborn as sns"
      ],
      "execution_count": 11,
      "outputs": []
    },
    {
      "cell_type": "code",
      "metadata": {
        "colab": {
          "base_uri": "https://localhost:8080/",
          "height": 299
        },
        "id": "3n1fg5POzhZV",
        "outputId": "ac7a5f86-085b-45e1-80be-601ba9303d2f"
      },
      "source": [
        "x=data['X1 transaction date']\n",
        "y=data['Y house price of unit area']\n",
        "plt.scatter(x,y)\n",
        "plt.xlabel('Transaction date',fontsize=12)\n",
        "plt.ylabel('House price of unit area',fontsize=12)\n",
        "plt.title('Transaction data & house price of unit area ',fontsize=14)\n",
        "plt.show()"
      ],
      "execution_count": 34,
      "outputs": [
        {
          "output_type": "display_data",
          "data": {
            "image/png": "[encoded data removed]",
            "text/plain": [
              "<Figure size 432x288 with 1 Axes>"
            ]
          },
          "metadata": {
            "tags": [],
            "needs_background": "light"
          }
        }
      ]
    },
    {
      "cell_type": "code",
      "metadata": {
        "colab": {
          "base_uri": "https://localhost:8080/",
          "height": 477
        },
        "id": "rIWLWu7Q1sao",
        "outputId": "0105e999-ac31-4ca4-d2d3-8a3e88685b0b"
      },
      "source": [
        "count=prepareddata['X1 transaction date'].value_counts()\n",
        "plt.figure(figsize=(12,6))\n",
        "sns.barplot(count.index,count.values, alpha=0.7)\n",
        "plt.xlabel('Transaction date',fontsize=12)\n",
        "plt.ylabel('House price of unit area',fontsize=12)\n",
        "plt.title('Transaction data & house price of unit area ',fontsize=14)\n",
        "plt.xticks(rotation=90)\n",
        "plt.show()"
      ],
      "execution_count": 36,
      "outputs": [
        {
          "output_type": "stream",
          "text": [
            "/usr/local/lib/python3.7/dist-packages/seaborn/_decorators.py:43: FutureWarning: Pass the following variables as keyword args: x, y. From version 0.12, the only valid positional argument will be `data`, and passing other arguments without an explicit keyword will result in an error or misinterpretation.\n",
            "  FutureWarning\n"
          ],
          "name": "stderr"
        },
        {
          "output_type": "display_data",
          "data": {
            "image/png": "[encoded data removed]",
            "text/plain": [
              "<Figure size 864x432 with 1 Axes>"
            ]
          },
          "metadata": {
            "tags": [],
            "needs_background": "light"
          }
        }
      ]
    },
    {
      "cell_type": "code",
      "metadata": {
        "colab": {
          "base_uri": "https://localhost:8080/",
          "height": 299
        },
        "id": "ilqBCEwuzvRO",
        "outputId": "17bea78d-9892-4095-a73f-613b8181e560"
      },
      "source": [
        "x=data['X2 house age']\n",
        "y=data['Y house price of unit area']\n",
        "plt.scatter(x,y,color='coral')\n",
        "plt.xlabel('House age',fontsize=12)\n",
        "plt.ylabel('House price of unit area',fontsize=12)\n",
        "plt.title('House age & house price of unit area ',fontsize=14)\n",
        "plt.show()"
      ],
      "execution_count": 20,
      "outputs": [
        {
          "output_type": "display_data",
          "data": {
            "image/png": "[encoded data removed]",
            "text/plain": [
              "<Figure size 432x288 with 1 Axes>"
            ]
          },
          "metadata": {
            "tags": [],
            "needs_background": "light"
          }
        }
      ]
    },
    {
      "cell_type": "code",
      "metadata": {
        "colab": {
          "base_uri": "https://localhost:8080/",
          "height": 464
        },
        "id": "FYPMXnIt4Gsf",
        "outputId": "c2d8346d-e7a5-4571-b7f6-c9f12f6eff76"
      },
      "source": [
        "count=prepareddata['X2 house age'].value_counts()\n",
        "plt.figure(figsize=(12,6))\n",
        "sns.barplot(count.index,count.values, alpha=0.6)\n",
        "plt.xlabel('House age',fontsize=12)\n",
        "plt.ylabel('House price of unit area',fontsize=12)\n",
        "plt.title('House age & house price of unit area ',fontsize=14)\n",
        "plt.xticks(rotation=90)\n",
        "plt.show()"
      ],
      "execution_count": 37,
      "outputs": [
        {
          "output_type": "stream",
          "text": [
            "/usr/local/lib/python3.7/dist-packages/seaborn/_decorators.py:43: FutureWarning: Pass the following variables as keyword args: x, y. From version 0.12, the only valid positional argument will be `data`, and passing other arguments without an explicit keyword will result in an error or misinterpretation.\n",
            "  FutureWarning\n"
          ],
          "name": "stderr"
        },
        {
          "output_type": "display_data",
          "data": {
            "image/png": "[encoded data removed]",
            "text/plain": [
              "<Figure size 864x432 with 1 Axes>"
            ]
          },
          "metadata": {
            "tags": [],
            "needs_background": "light"
          }
        }
      ]
    },
    {
      "cell_type": "code",
      "metadata": {
        "colab": {
          "base_uri": "https://localhost:8080/",
          "height": 299
        },
        "id": "PbTngXyz0l84",
        "outputId": "18ace991-8ef9-4d29-e25e-d114b6379efd"
      },
      "source": [
        "x=data['X3 distance to the nearest MRT station']\n",
        "y=data['Y house price of unit area']\n",
        "plt.scatter(x,y,color='lightgreen')\n",
        "plt.xlabel('Distance to the nearest MRT station',fontsize=12)\n",
        "plt.ylabel('House price of unit area',fontsize=12)\n",
        "plt.title('Distance to the nearest MRT station & house price of unit area ',fontsize=14)\n",
        "plt.show()"
      ],
      "execution_count": 22,
      "outputs": [
        {
          "output_type": "display_data",
          "data": {
            "image/png": "[encoded data removed]",
            "text/plain": [
              "<Figure size 432x288 with 1 Axes>"
            ]
          },
          "metadata": {
            "tags": [],
            "needs_background": "light"
          }
        }
      ]
    },
    {
      "cell_type": "code",
      "metadata": {
        "colab": {
          "base_uri": "https://localhost:8080/",
          "height": 299
        },
        "id": "o6eLbPBV04T2",
        "outputId": "47710bc7-e7cd-43a7-8ec7-4258bcb0aeae"
      },
      "source": [
        "x=data['X4 number of convenience stores']\n",
        "y=data['Y house price of unit area']\n",
        "plt.scatter(x,y,color='orchid')\n",
        "plt.xlabel('Number of convenience stores',fontsize=12)\n",
        "plt.ylabel('House price of unit area',fontsize=12)\n",
        "plt.title('Number of convenience stores & house price of unit area ',fontsize=14)\n",
        "plt.show()"
      ],
      "execution_count": 23,
      "outputs": [
        {
          "output_type": "display_data",
          "data": {
            "image/png": "[encoded data removed]",
            "text/plain": [
              "<Figure size 432x288 with 1 Axes>"
            ]
          },
          "metadata": {
            "tags": [],
            "needs_background": "light"
          }
        }
      ]
    },
    {
      "cell_type": "code",
      "metadata": {
        "colab": {
          "base_uri": "https://localhost:8080/",
          "height": 464
        },
        "id": "lBGuxSx45UKf",
        "outputId": "eca2435a-ab86-4ad8-dcf9-18b28fe11670"
      },
      "source": [
        "count=prepareddata['X4 number of convenience stores'].value_counts()\n",
        "plt.figure(figsize=(12,6))\n",
        "sns.barplot(count.index,count.values, alpha=0.6)\n",
        "plt.xlabel('Number of convenience stores',fontsize=12)\n",
        "plt.ylabel('House price of unit area',fontsize=12)\n",
        "plt.title('Number of convenience stores & house price of unit area ',fontsize=14)\n",
        "plt.xticks(rotation=90)\n",
        "plt.show()"
      ],
      "execution_count": 39,
      "outputs": [
        {
          "output_type": "stream",
          "text": [
            "/usr/local/lib/python3.7/dist-packages/seaborn/_decorators.py:43: FutureWarning: Pass the following variables as keyword args: x, y. From version 0.12, the only valid positional argument will be `data`, and passing other arguments without an explicit keyword will result in an error or misinterpretation.\n",
            "  FutureWarning\n"
          ],
          "name": "stderr"
        },
        {
          "output_type": "display_data",
          "data": {
            "image/png": "[encoded data removed]",
            "text/plain": [
              "<Figure size 864x432 with 1 Axes>"
            ]
          },
          "metadata": {
            "tags": [],
            "needs_background": "light"
          }
        }
      ]
    },
    {
      "cell_type": "code",
      "metadata": {
        "colab": {
          "base_uri": "https://localhost:8080/",
          "height": 299
        },
        "id": "GJw9Ya5R1IrS",
        "outputId": "0b2811f3-37dc-4d47-db9a-50c78973c443"
      },
      "source": [
        "x=data['X5 latitude']\n",
        "y=data['Y house price of unit area']\n",
        "plt.scatter(x,y,color='salmon')\n",
        "plt.xlabel('latitude',fontsize=12)\n",
        "plt.ylabel('House price of unit area',fontsize=12)\n",
        "plt.title('latitude & house price of unit area ',fontsize=14)\n",
        "plt.show()"
      ],
      "execution_count": 25,
      "outputs": [
        {
          "output_type": "display_data",
          "data": {
            "image/png": "[encoded data removed]",
            "text/plain": [
              "<Figure size 432x288 with 1 Axes>"
            ]
          },
          "metadata": {
            "tags": [],
            "needs_background": "light"
          }
        }
      ]
    },
    {
      "cell_type": "code",
      "metadata": {
        "colab": {
          "base_uri": "https://localhost:8080/",
          "height": 299
        },
        "id": "IeGf-FQe1RaZ",
        "outputId": "ad899313-7d78-423a-be1e-968c2e318ef6"
      },
      "source": [
        "x=data['X6 longitude']\n",
        "y=data['Y house price of unit area']\n",
        "plt.scatter(x,y,color='gold')\n",
        "plt.xlabel('longitude',fontsize=12)\n",
        "plt.ylabel('House price of unit area',fontsize=12)\n",
        "plt.title('longitude & house price of unit area ',fontsize=14)\n",
        "plt.show()"
      ],
      "execution_count": 27,
      "outputs": [
        {
          "output_type": "display_data",
          "data": {
            "image/png": "[encoded data removed]",
            "text/plain": [
              "<Figure size 432x288 with 1 Axes>"
            ]
          },
          "metadata": {
            "tags": [],
            "needs_background": "light"
          }
        }
      ]
    },
    {
      "cell_type": "markdown",
      "metadata": {
        "id": "9FYOCYni6OUs"
      },
      "source": [
        "### Data training & model creation using different algorithms."
      ]
    },
    {
      "cell_type": "markdown",
      "metadata": {
        "id": "WLCJEtTE68kn"
      },
      "source": [
        "*  Before moving to model creation using different algorithms, we have to split the data into training and testing data with a specified ratio.\n",
        "\n",
        "*  It is always considered as a good practice to take more training data  in ratio as compared to the testing data so that the model can learn effectively and perform accurately.\n",
        "\n",
        "*  For this we'll use train-test-split method from sklearn which splits the data into training and testing data on the basis of given ratio.\n",
        "\n"
      ]
    },
    {
      "cell_type": "code",
      "metadata": {
        "id": "qIgYfBlb1nXJ"
      },
      "source": [
        "# Import train_test_split from sklearn.model_selection\n",
        "from sklearn.model_selection import train_test_split\n",
        "# Here, X is the data which will have feature and y will have our target.\n",
        "x=prepareddata[['X1 transaction date', 'X2 house age',\n",
        "       'X3 distance to the nearest MRT station',\n",
        "       'X4 number of convenience stores', 'X5 latitude', 'X6 longitude']]  \n",
        "y=prepareddata['Y house price of unit area']"
      ],
      "execution_count": 44,
      "outputs": []
    },
    {
      "cell_type": "code",
      "metadata": {
        "id": "TsNEfi5Z6z_y"
      },
      "source": [
        "# Split data into training data and testing data\n",
        "x_train, x_test, y_train, y_test = train_test_split(x, y, test_size=0.2,random_state=5) \n",
        "#Ratio used for splitting training and testing data is 8:2 respectively"
      ],
      "execution_count": 51,
      "outputs": []
    },
    {
      "cell_type": "markdown",
      "metadata": {
        "id": "4JH2Gc2E75jB"
      },
      "source": [
        "Model creation using Linear Regression model."
      ]
    },
    {
      "cell_type": "code",
      "metadata": {
        "id": "XxmN9_KY74dx"
      },
      "source": [
        "# Importing linear regression model\n",
        "from sklearn.linear_model import LinearRegression \n",
        "reg1 = LinearRegression()"
      ],
      "execution_count": 52,
      "outputs": []
    },
    {
      "cell_type": "code",
      "metadata": {
        "colab": {
          "base_uri": "https://localhost:8080/"
        },
        "id": "pXtXaDKL74_y",
        "outputId": "0b7b6898-166d-4541-88c2-3d4ef49325a9"
      },
      "source": [
        "# Fitting data into the model.\n",
        "reg1.fit(x_train, y_train)"
      ],
      "execution_count": 53,
      "outputs": [
        {
          "output_type": "execute_result",
          "data": {
            "text/plain": [
              "LinearRegression(copy_X=True, fit_intercept=True, n_jobs=None, normalize=False)"
            ]
          },
          "metadata": {
            "tags": []
          },
          "execution_count": 53
        }
      ]
    },
    {
      "cell_type": "code",
      "metadata": {
        "id": "LLxIUCcb8DXa"
      },
      "source": [
        "# Making predictions \n",
        "pred1 = reg1.predict(x_test)"
      ],
      "execution_count": 54,
      "outputs": []
    },
    {
      "cell_type": "code",
      "metadata": {
        "colab": {
          "base_uri": "https://localhost:8080/"
        },
        "id": "fO8fYkpV8Gpo",
        "outputId": "12b4d620-ccef-4c4f-b674-0c059ba1d890"
      },
      "source": [
        "pred1"
      ],
      "execution_count": 55,
      "outputs": [
        {
          "output_type": "execute_result",
          "data": {
            "text/plain": [
              "array([32.0220065 , 44.65198923, 30.98775094, 34.6177936 , 40.45051651,\n",
              "       47.90106567, 54.54882643, 44.068845  , 34.41605172, 41.51408595,\n",
              "       37.77256677, 34.36616514, 40.6092641 , 43.04596101, 53.29478142,\n",
              "       36.65835639, 44.44206896, 42.49224803, 51.12808878, 49.19494285,\n",
              "       40.64765914, 18.24202421, 44.29566045, 44.65198923, 50.96815071,\n",
              "       44.44206896, 36.19140827, 40.17312224, 21.2734218 , 41.24663508,\n",
              "       48.46368965, 35.24721179, 34.99142263, 53.61110245, 37.47831226,\n",
              "       12.57857683, 48.49810346, 48.46368965, 35.441817  , 39.62834199,\n",
              "       32.94401333, 33.56220836, 32.77747067, 40.76248808, 49.96201628,\n",
              "       38.30469604, 27.95312015, 36.11453434, 44.01767233, 43.7825922 ,\n",
              "       12.3258107 , 40.29227925, 42.20620575, 14.3379964 ,  9.26466643,\n",
              "       38.1789655 , 34.41605172, 34.50352356, 38.62233422, 34.6177936 ,\n",
              "       40.83215113, 28.45205291, 53.0996294 , 33.78233146, 28.15987566,\n",
              "       27.14521862, 36.97563563, 46.22623123, 37.68061304, 41.16008108,\n",
              "       17.61998428, 49.1914409 , 32.9405261 , 42.38356649, 41.66603983,\n",
              "       47.36209919, 40.47403803, 44.5238202 , 33.18158474, 33.08778214,\n",
              "       17.61998428, 43.16956463, 35.09270451])"
            ]
          },
          "metadata": {
            "tags": []
          },
          "execution_count": 55
        }
      ]
    },
    {
      "cell_type": "markdown",
      "metadata": {
        "id": "3oBKEgTQLPPv"
      },
      "source": [
        "Model creation using Decision Tree Regressor model."
      ]
    },
    {
      "cell_type": "code",
      "metadata": {
        "id": "kQ7henV0LU3p"
      },
      "source": [
        "# Importing decision tree regressor \n",
        "from sklearn.tree import DecisionTreeRegressor \n",
        "reg2 = DecisionTreeRegressor()"
      ],
      "execution_count": 64,
      "outputs": []
    },
    {
      "cell_type": "code",
      "metadata": {
        "colab": {
          "base_uri": "https://localhost:8080/"
        },
        "id": "B7AmadLJLZ_y",
        "outputId": "a8649418-2d6e-4bb3-b82c-d1f7d768827f"
      },
      "source": [
        "#Fitting data into the model.\n",
        "reg2.fit(x_train, y_train)"
      ],
      "execution_count": 65,
      "outputs": [
        {
          "output_type": "execute_result",
          "data": {
            "text/plain": [
              "DecisionTreeRegressor(ccp_alpha=0.0, criterion='mse', max_depth=None,\n",
              "                      max_features=None, max_leaf_nodes=None,\n",
              "                      min_impurity_decrease=0.0, min_impurity_split=None,\n",
              "                      min_samples_leaf=1, min_samples_split=2,\n",
              "                      min_weight_fraction_leaf=0.0, presort='deprecated',\n",
              "                      random_state=None, splitter='best')"
            ]
          },
          "metadata": {
            "tags": []
          },
          "execution_count": 65
        }
      ]
    },
    {
      "cell_type": "code",
      "metadata": {
        "id": "Fra9W2YQLecu"
      },
      "source": [
        "# Making predictions on Test data \n",
        "pred2 = reg2.predict(x_test)"
      ],
      "execution_count": 66,
      "outputs": []
    },
    {
      "cell_type": "code",
      "metadata": {
        "colab": {
          "base_uri": "https://localhost:8080/"
        },
        "id": "7GFLrANNLjAc",
        "outputId": "243ab4c8-fee2-446b-a328-2bac40aec411"
      },
      "source": [
        "pred2"
      ],
      "execution_count": 67,
      "outputs": [
        {
          "output_type": "execute_result",
          "data": {
            "text/plain": [
              "array([32.        , 50.83333333, 23.        , 27.66666667, 62.        ,\n",
              "       45.        , 50.        , 50.5       , 36.        , 46.        ,\n",
              "       37.        , 30.        , 42.        , 39.        , 59.57142857,\n",
              "       40.        , 40.25      , 38.        , 53.        , 47.        ,\n",
              "       35.        , 16.66666667, 46.        , 50.83333333, 49.        ,\n",
              "       40.25      , 41.        , 34.        , 22.        , 63.        ,\n",
              "       39.        , 30.        , 25.        , 61.        , 30.        ,\n",
              "       13.        , 57.66666667, 39.        , 30.33333333, 40.        ,\n",
              "       26.5       , 23.        , 25.        , 47.5       , 47.        ,\n",
              "       41.        , 23.        , 41.        , 40.        , 40.        ,\n",
              "       22.        , 25.        , 37.        , 19.        , 17.        ,\n",
              "       36.        , 36.        , 36.        , 28.        , 27.66666667,\n",
              "       36.        , 18.        , 44.        , 33.        , 29.        ,\n",
              "       34.        , 55.        , 48.        , 33.        , 39.        ,\n",
              "       16.66666667, 53.        , 26.        , 40.        , 44.        ,\n",
              "       52.        , 42.        , 47.        , 23.        , 23.        ,\n",
              "       16.66666667, 49.75      , 37.        ])"
            ]
          },
          "metadata": {
            "tags": []
          },
          "execution_count": 67
        }
      ]
    },
    {
      "cell_type": "markdown",
      "metadata": {
        "id": "JS7ejZPPJ3Os"
      },
      "source": [
        "Model Creation using Random Forest Regressor model.\n"
      ]
    },
    {
      "cell_type": "code",
      "metadata": {
        "id": "fwTzPWS1Jtnh"
      },
      "source": [
        "#Importing random forest regressor \n",
        "from sklearn.ensemble import RandomForestRegressor \n",
        "reg3 = RandomForestRegressor(n_estimators=100)"
      ],
      "execution_count": 59,
      "outputs": []
    },
    {
      "cell_type": "code",
      "metadata": {
        "colab": {
          "base_uri": "https://localhost:8080/"
        },
        "id": "21b9RMEgK748",
        "outputId": "3238eba6-53a9-4713-8b7c-282fd5cf199d"
      },
      "source": [
        "# Fitting data into the model.\n",
        "reg3.fit(x_train, y_train)"
      ],
      "execution_count": 60,
      "outputs": [
        {
          "output_type": "execute_result",
          "data": {
            "text/plain": [
              "RandomForestRegressor(bootstrap=True, ccp_alpha=0.0, criterion='mse',\n",
              "                      max_depth=None, max_features='auto', max_leaf_nodes=None,\n",
              "                      max_samples=None, min_impurity_decrease=0.0,\n",
              "                      min_impurity_split=None, min_samples_leaf=1,\n",
              "                      min_samples_split=2, min_weight_fraction_leaf=0.0,\n",
              "                      n_estimators=100, n_jobs=None, oob_score=False,\n",
              "                      random_state=None, verbose=0, warm_start=False)"
            ]
          },
          "metadata": {
            "tags": []
          },
          "execution_count": 60
        }
      ]
    },
    {
      "cell_type": "code",
      "metadata": {
        "id": "PnfYQQ8bLBv4"
      },
      "source": [
        "#making predictions.\n",
        "pred3 = reg3.predict(x_test)"
      ],
      "execution_count": 62,
      "outputs": []
    },
    {
      "cell_type": "code",
      "metadata": {
        "colab": {
          "base_uri": "https://localhost:8080/"
        },
        "id": "dpbZcyG7LK_f",
        "outputId": "91afaaee-9133-4548-be28-3df1702e92bc"
      },
      "source": [
        "pred3"
      ],
      "execution_count": 63,
      "outputs": [
        {
          "output_type": "execute_result",
          "data": {
            "text/plain": [
              "array([30.19333333, 50.30730253, 21.41      , 27.56545238, 43.6415    ,\n",
              "       50.05602381, 57.35353175, 48.92480952, 36.3       , 49.09857143,\n",
              "       36.21857143, 28.3225    , 40.53333333, 40.91      , 55.36239755,\n",
              "       38.808     , 40.42167857, 38.28      , 53.25313095, 46.982     ,\n",
              "       35.555     , 16.9175    , 42.94666667, 50.30730253, 48.78979365,\n",
              "       40.42167857, 36.53      , 36.12316667, 29.21433333, 62.15      ,\n",
              "       44.69666667, 34.26      , 35.345     , 55.38864971, 34.56833333,\n",
              "       18.69833333, 56.15098701, 44.69666667, 30.44409524, 38.2025    ,\n",
              "       25.23383333, 24.285     , 26.48216667, 51.15052381, 47.70795238,\n",
              "       38.54      , 20.3       , 40.17090476, 34.78633333, 38.76166667,\n",
              "       19.92333333, 34.08      , 39.6175    , 15.84840476, 19.235     ,\n",
              "       37.76266667, 36.3       , 42.11      , 29.56567857, 27.56545238,\n",
              "       41.228     , 19.56333333, 47.59      , 29.82214286, 25.1665    ,\n",
              "       34.13333333, 43.88333333, 39.46666667, 36.38857143, 39.78466667,\n",
              "       17.14083333, 53.6       , 33.2831746 , 39.37      , 44.58474062,\n",
              "       50.85      , 41.08      , 46.95      , 26.02333333, 23.67      ,\n",
              "       17.14083333, 51.07716064, 36.59283333])"
            ]
          },
          "metadata": {
            "tags": []
          },
          "execution_count": 63
        }
      ]
    },
    {
      "cell_type": "markdown",
      "metadata": {
        "id": "zvynin7r8L6U"
      },
      "source": [
        "### Performance check."
      ]
    },
    {
      "cell_type": "code",
      "metadata": {
        "colab": {
          "base_uri": "https://localhost:8080/"
        },
        "id": "owheE06z8HlI",
        "outputId": "c8fdcdbf-70ec-499f-d7ef-8e88b0e3a2f5"
      },
      "source": [
        "import numpy as np\n",
        "from sklearn.metrics import mean_squared_error\n",
        "print(\"Model\\t\\t\\t          RootMeanSquareError  \\t\\t    Accuracy of the model\") \n",
        "print(\"\"\"Linear Regression       \\t\\t {:.4f} \\t \\t\\t {:.4f}\"\"\".format(  np.sqrt(mean_squared_error(y_test, pred1)), reg1.score(x_train,y_train)))\n",
        "print(\"\"\"Decision Tree Regressor \\t\\t {:.4f} \\t \\t\\t {:.4f}\"\"\".format(  np.sqrt(mean_squared_error(y_test, pred2)), reg2.score(x_train,y_train)))\n",
        "print(\"\"\"Random Forest Regressor \\t\\t {:.4f} \\t \\t\\t {:.4f}\"\"\".format(  np.sqrt(mean_squared_error(y_test, pred3)), reg3.score(x_train,y_train)))"
      ],
      "execution_count": 68,
      "outputs": [
        {
          "output_type": "stream",
          "text": [
            "Model\t\t\t          RootMeanSquareError  \t\t    Accuracy of the model\n",
            "Linear Regression       \t\t 7.9600 \t \t\t 0.5558\n",
            "Decision Tree Regressor \t\t 8.2505 \t \t\t 0.9825\n",
            "Random Forest Regressor \t\t 7.3861 \t \t\t 0.9359\n"
          ],
          "name": "stdout"
        }
      ]
    },
    {
      "cell_type": "markdown",
      "metadata": {
        "id": "SjJECjao8am0"
      },
      "source": [
        "Conclusion drawn:\n",
        "\n",
        "\n",
        "*   When considering all the features given in the dataset, the accuracy of linear regression appears to be 55.58% which is not so good, that of decision tree regressor is 98.25% and of random forest regressor is 93.59%.\n",
        "\n",
        "*   Decision Tree Regressor has best accuracy as compared to linear regression and random forest regresor.\n",
        "\n",
        "\n",
        "\n",
        "\n"
      ]
    }
  ]
}