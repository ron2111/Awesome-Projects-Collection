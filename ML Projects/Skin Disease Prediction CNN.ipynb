{
 "cells": [
  {
   "cell_type": "code",
   "execution_count": 1,
   "metadata": {},
   "outputs": [
    {
     "name": "stderr",
     "output_type": "stream",
     "text": [
      "Using TensorFlow backend.\n",
      "C:\\Users\\Aishwarya Suresh\\anaconda3\\lib\\site-packages\\tensorflow\\python\\framework\\dtypes.py:516: FutureWarning: Passing (type, 1) or '1type' as a synonym of type is deprecated; in a future version of numpy, it will be understood as (type, (1,)) / '(1,)type'.\n",
      "  _np_qint8 = np.dtype([(\"qint8\", np.int8, 1)])\n",
      "C:\\Users\\Aishwarya Suresh\\anaconda3\\lib\\site-packages\\tensorflow\\python\\framework\\dtypes.py:517: FutureWarning: Passing (type, 1) or '1type' as a synonym of type is deprecated; in a future version of numpy, it will be understood as (type, (1,)) / '(1,)type'.\n",
      "  _np_quint8 = np.dtype([(\"quint8\", np.uint8, 1)])\n",
      "C:\\Users\\Aishwarya Suresh\\anaconda3\\lib\\site-packages\\tensorflow\\python\\framework\\dtypes.py:518: FutureWarning: Passing (type, 1) or '1type' as a synonym of type is deprecated; in a future version of numpy, it will be understood as (type, (1,)) / '(1,)type'.\n",
      "  _np_qint16 = np.dtype([(\"qint16\", np.int16, 1)])\n",
      "C:\\Users\\Aishwarya Suresh\\anaconda3\\lib\\site-packages\\tensorflow\\python\\framework\\dtypes.py:519: FutureWarning: Passing (type, 1) or '1type' as a synonym of type is deprecated; in a future version of numpy, it will be understood as (type, (1,)) / '(1,)type'.\n",
      "  _np_quint16 = np.dtype([(\"quint16\", np.uint16, 1)])\n",
      "C:\\Users\\Aishwarya Suresh\\anaconda3\\lib\\site-packages\\tensorflow\\python\\framework\\dtypes.py:520: FutureWarning: Passing (type, 1) or '1type' as a synonym of type is deprecated; in a future version of numpy, it will be understood as (type, (1,)) / '(1,)type'.\n",
      "  _np_qint32 = np.dtype([(\"qint32\", np.int32, 1)])\n",
      "C:\\Users\\Aishwarya Suresh\\anaconda3\\lib\\site-packages\\tensorflow\\python\\framework\\dtypes.py:525: FutureWarning: Passing (type, 1) or '1type' as a synonym of type is deprecated; in a future version of numpy, it will be understood as (type, (1,)) / '(1,)type'.\n",
      "  np_resource = np.dtype([(\"resource\", np.ubyte, 1)])\n",
      "C:\\Users\\Aishwarya Suresh\\anaconda3\\lib\\site-packages\\tensorboard\\compat\\tensorflow_stub\\dtypes.py:541: FutureWarning: Passing (type, 1) or '1type' as a synonym of type is deprecated; in a future version of numpy, it will be understood as (type, (1,)) / '(1,)type'.\n",
      "  _np_qint8 = np.dtype([(\"qint8\", np.int8, 1)])\n",
      "C:\\Users\\Aishwarya Suresh\\anaconda3\\lib\\site-packages\\tensorboard\\compat\\tensorflow_stub\\dtypes.py:542: FutureWarning: Passing (type, 1) or '1type' as a synonym of type is deprecated; in a future version of numpy, it will be understood as (type, (1,)) / '(1,)type'.\n",
      "  _np_quint8 = np.dtype([(\"quint8\", np.uint8, 1)])\n",
      "C:\\Users\\Aishwarya Suresh\\anaconda3\\lib\\site-packages\\tensorboard\\compat\\tensorflow_stub\\dtypes.py:543: FutureWarning: Passing (type, 1) or '1type' as a synonym of type is deprecated; in a future version of numpy, it will be understood as (type, (1,)) / '(1,)type'.\n",
      "  _np_qint16 = np.dtype([(\"qint16\", np.int16, 1)])\n",
      "C:\\Users\\Aishwarya Suresh\\anaconda3\\lib\\site-packages\\tensorboard\\compat\\tensorflow_stub\\dtypes.py:544: FutureWarning: Passing (type, 1) or '1type' as a synonym of type is deprecated; in a future version of numpy, it will be understood as (type, (1,)) / '(1,)type'.\n",
      "  _np_quint16 = np.dtype([(\"quint16\", np.uint16, 1)])\n",
      "C:\\Users\\Aishwarya Suresh\\anaconda3\\lib\\site-packages\\tensorboard\\compat\\tensorflow_stub\\dtypes.py:545: FutureWarning: Passing (type, 1) or '1type' as a synonym of type is deprecated; in a future version of numpy, it will be understood as (type, (1,)) / '(1,)type'.\n",
      "  _np_qint32 = np.dtype([(\"qint32\", np.int32, 1)])\n",
      "C:\\Users\\Aishwarya Suresh\\anaconda3\\lib\\site-packages\\tensorboard\\compat\\tensorflow_stub\\dtypes.py:550: FutureWarning: Passing (type, 1) or '1type' as a synonym of type is deprecated; in a future version of numpy, it will be understood as (type, (1,)) / '(1,)type'.\n",
      "  np_resource = np.dtype([(\"resource\", np.ubyte, 1)])\n"
     ]
    }
   ],
   "source": [
    "# importing libraries\n",
    "from keras.models import Sequential\n",
    "from keras.layers import Dense\n",
    "from keras.layers import Convolution2D\n",
    "from keras.layers import MaxPooling2D\n",
    "from keras.layers import Flatten"
   ]
  },
  {
   "cell_type": "code",
   "execution_count": 2,
   "metadata": {},
   "outputs": [
    {
     "name": "stdout",
     "output_type": "stream",
     "text": [
      "WARNING:tensorflow:From C:\\Users\\Aishwarya Suresh\\anaconda3\\lib\\site-packages\\keras\\backend\\tensorflow_backend.py:74: The name tf.get_default_graph is deprecated. Please use tf.compat.v1.get_default_graph instead.\n",
      "\n"
     ]
    }
   ],
   "source": [
    "# Initializing the model\n",
    "model = Sequential()"
   ]
  },
  {
   "cell_type": "code",
   "execution_count": 3,
   "metadata": {},
   "outputs": [
    {
     "name": "stdout",
     "output_type": "stream",
     "text": [
      "WARNING:tensorflow:From C:\\Users\\Aishwarya Suresh\\anaconda3\\lib\\site-packages\\keras\\backend\\tensorflow_backend.py:517: The name tf.placeholder is deprecated. Please use tf.compat.v1.placeholder instead.\n",
      "\n",
      "WARNING:tensorflow:From C:\\Users\\Aishwarya Suresh\\anaconda3\\lib\\site-packages\\keras\\backend\\tensorflow_backend.py:4138: The name tf.random_uniform is deprecated. Please use tf.random.uniform instead.\n",
      "\n"
     ]
    }
   ],
   "source": [
    "# convolution layer\n",
    "model.add(Convolution2D(32,(3,3),input_shape = (64,64,3), activation = 'relu'))"
   ]
  },
  {
   "cell_type": "code",
   "execution_count": 4,
   "metadata": {},
   "outputs": [],
   "source": [
    "# convolution layer2\n",
    "model.add(Convolution2D(32,(3,3),input_shape = (64,64,3), activation = 'relu'))"
   ]
  },
  {
   "cell_type": "code",
   "execution_count": 5,
   "metadata": {},
   "outputs": [
    {
     "name": "stdout",
     "output_type": "stream",
     "text": [
      "WARNING:tensorflow:From C:\\Users\\Aishwarya Suresh\\anaconda3\\lib\\site-packages\\keras\\backend\\tensorflow_backend.py:3976: The name tf.nn.max_pool is deprecated. Please use tf.nn.max_pool2d instead.\n",
      "\n"
     ]
    }
   ],
   "source": [
    "# Max Pooling Layer\n",
    "model.add(MaxPooling2D(pool_size = (2,2)))"
   ]
  },
  {
   "cell_type": "code",
   "execution_count": 6,
   "metadata": {},
   "outputs": [],
   "source": [
    "# flattening layer\n",
    "model.add(Flatten())"
   ]
  },
  {
   "cell_type": "code",
   "execution_count": 7,
   "metadata": {},
   "outputs": [
    {
     "name": "stderr",
     "output_type": "stream",
     "text": [
      "C:\\Users\\Aishwarya Suresh\\anaconda3\\lib\\site-packages\\ipykernel_launcher.py:2: UserWarning: Update your `Dense` call to the Keras 2 API: `Dense(activation=\"relu\", units=128, kernel_initializer=\"uniform\")`\n",
      "  \n"
     ]
    }
   ],
   "source": [
    "# hidden layer 1\n",
    "model.add(Dense(output_dim = 128, init = 'uniform', activation = 'relu'))"
   ]
  },
  {
   "cell_type": "code",
   "execution_count": 8,
   "metadata": {},
   "outputs": [
    {
     "name": "stderr",
     "output_type": "stream",
     "text": [
      "C:\\Users\\Aishwarya Suresh\\anaconda3\\lib\\site-packages\\ipykernel_launcher.py:2: UserWarning: Update your `Dense` call to the Keras 2 API: `Dense(activation=\"relu\", units=128, kernel_initializer=\"uniform\")`\n",
      "  \n"
     ]
    }
   ],
   "source": [
    "# hidden layer 2\n",
    "model.add(Dense(output_dim = 128, init = 'uniform', activation = 'relu'))"
   ]
  },
  {
   "cell_type": "code",
   "execution_count": 9,
   "metadata": {
    "scrolled": true
   },
   "outputs": [
    {
     "name": "stderr",
     "output_type": "stream",
     "text": [
      "C:\\Users\\Aishwarya Suresh\\anaconda3\\lib\\site-packages\\ipykernel_launcher.py:2: UserWarning: Update your `Dense` call to the Keras 2 API: `Dense(activation=\"relu\", units=64, kernel_initializer=\"uniform\")`\n",
      "  \n"
     ]
    }
   ],
   "source": [
    "# hidden layer 3\n",
    "model.add(Dense(output_dim = 64, init = 'uniform', activation = 'relu'))"
   ]
  },
  {
   "cell_type": "code",
   "execution_count": 10,
   "metadata": {},
   "outputs": [
    {
     "name": "stderr",
     "output_type": "stream",
     "text": [
      "C:\\Users\\Aishwarya Suresh\\anaconda3\\lib\\site-packages\\ipykernel_launcher.py:2: UserWarning: Update your `Dense` call to the Keras 2 API: `Dense(activation=\"relu\", units=64, kernel_initializer=\"uniform\")`\n",
      "  \n"
     ]
    }
   ],
   "source": [
    "# hidden layer 4\n",
    "model.add(Dense(output_dim = 64, init = 'uniform', activation = 'relu'))"
   ]
  },
  {
   "cell_type": "code",
   "execution_count": 11,
   "metadata": {},
   "outputs": [
    {
     "name": "stderr",
     "output_type": "stream",
     "text": [
      "C:\\Users\\Aishwarya Suresh\\anaconda3\\lib\\site-packages\\ipykernel_launcher.py:2: UserWarning: Update your `Dense` call to the Keras 2 API: `Dense(activation=\"softmax\", units=5, kernel_initializer=\"uniform\")`\n",
      "  \n"
     ]
    }
   ],
   "source": [
    "# o/p layer\n",
    "model.add(Dense(output_dim = 5, init = 'uniform', activation = 'softmax')) "
   ]
  },
  {
   "cell_type": "code",
   "execution_count": 12,
   "metadata": {},
   "outputs": [],
   "source": [
    "from keras.preprocessing.image import ImageDataGenerator"
   ]
  },
  {
   "cell_type": "code",
   "execution_count": 13,
   "metadata": {},
   "outputs": [],
   "source": [
    "train_datagen = ImageDataGenerator(rescale = 1./255, shear_range = 0.2, zoom_range = 0.2, height_shift_range = 0.2, width_shift_range = 0.2, horizontal_flip = True, vertical_flip = True)\n",
    "test_datagen = ImageDataGenerator(rescale = 1)"
   ]
  },
  {
   "cell_type": "code",
   "execution_count": 14,
   "metadata": {},
   "outputs": [
    {
     "name": "stdout",
     "output_type": "stream",
     "text": [
      "Found 2205 images belonging to 5 classes.\n",
      "Found 550 images belonging to 5 classes.\n"
     ]
    }
   ],
   "source": [
    "x_train = train_datagen.flow_from_directory('D:/Skin Disease Prediction/Dataset/Skin Diseases/train', target_size = (64, 64), batch_size = 32, class_mode = 'categorical')\n",
    "x_test = test_datagen.flow_from_directory('D:/Skin Disease Prediction/Dataset/Skin Diseases/test', target_size = (64, 64), batch_size = 32, class_mode = 'categorical')"
   ]
  },
  {
   "cell_type": "code",
   "execution_count": 15,
   "metadata": {},
   "outputs": [
    {
     "data": {
      "text/plain": [
       "{'Acne': 0, 'Melanoma': 1, 'Psoriasis': 2, 'Rosacea': 3, 'Vitiligo': 4}"
      ]
     },
     "execution_count": 15,
     "metadata": {},
     "output_type": "execute_result"
    }
   ],
   "source": [
    "x_train.class_indices"
   ]
  },
  {
   "cell_type": "code",
   "execution_count": 16,
   "metadata": {},
   "outputs": [
    {
     "name": "stdout",
     "output_type": "stream",
     "text": [
      "WARNING:tensorflow:From C:\\Users\\Aishwarya Suresh\\anaconda3\\lib\\site-packages\\keras\\optimizers.py:790: The name tf.train.Optimizer is deprecated. Please use tf.compat.v1.train.Optimizer instead.\n",
      "\n",
      "WARNING:tensorflow:From C:\\Users\\Aishwarya Suresh\\anaconda3\\lib\\site-packages\\keras\\backend\\tensorflow_backend.py:3295: The name tf.log is deprecated. Please use tf.math.log instead.\n",
      "\n"
     ]
    }
   ],
   "source": [
    "model.compile(loss = 'categorical_crossentropy', optimizer = 'adam', metrics = ['accuracy'])"
   ]
  },
  {
   "cell_type": "code",
   "execution_count": 18,
   "metadata": {},
   "outputs": [
    {
     "name": "stdout",
     "output_type": "stream",
     "text": [
      "Epoch 1/100\n",
      "69/69 [==============================] - 28s 404ms/step - loss: 0.7748 - acc: 0.6945 - val_loss: 9.2703 - val_acc: 0.4216\n",
      "Epoch 2/100\n",
      "69/69 [==============================] - 28s 407ms/step - loss: 0.7523 - acc: 0.7065 - val_loss: 10.2710 - val_acc: 0.3598\n",
      "Epoch 3/100\n",
      "69/69 [==============================] - 28s 405ms/step - loss: 0.7818 - acc: 0.6890 - val_loss: 8.7438 - val_acc: 0.4491\n",
      "Epoch 4/100\n",
      "69/69 [==============================] - 28s 403ms/step - loss: 0.7528 - acc: 0.7027 - val_loss: 8.9959 - val_acc: 0.4325\n",
      "Epoch 5/100\n",
      "69/69 [==============================] - 28s 405ms/step - loss: 0.8082 - acc: 0.6888 - val_loss: 8.8445 - val_acc: 0.4491\n",
      "Epoch 6/100\n",
      "69/69 [==============================] - 28s 410ms/step - loss: 0.7768 - acc: 0.6902 - val_loss: 9.3352 - val_acc: 0.4168\n",
      "Epoch 7/100\n",
      "69/69 [==============================] - 28s 404ms/step - loss: 0.7753 - acc: 0.7047 - val_loss: 8.8228 - val_acc: 0.4469\n",
      "Epoch 8/100\n",
      "69/69 [==============================] - 28s 401ms/step - loss: 0.7584 - acc: 0.7066 - val_loss: 9.0517 - val_acc: 0.4316\n",
      "Epoch 9/100\n",
      "69/69 [==============================] - 28s 403ms/step - loss: 0.7666 - acc: 0.7052 - val_loss: 8.9176 - val_acc: 0.4382\n",
      "Epoch 10/100\n",
      "69/69 [==============================] - 28s 413ms/step - loss: 0.7690 - acc: 0.6947 - val_loss: 9.6270 - val_acc: 0.3935\n",
      "Epoch 11/100\n",
      "69/69 [==============================] - 28s 405ms/step - loss: 0.7761 - acc: 0.6983 - val_loss: 8.7361 - val_acc: 0.4534\n",
      "Epoch 12/100\n",
      "69/69 [==============================] - 28s 408ms/step - loss: 0.7390 - acc: 0.7116 - val_loss: 9.0816 - val_acc: 0.4301\n",
      "Epoch 13/100\n",
      "69/69 [==============================] - 28s 407ms/step - loss: 0.7462 - acc: 0.7093 - val_loss: 9.1369 - val_acc: 0.4286\n",
      "Epoch 14/100\n",
      "69/69 [==============================] - 28s 410ms/step - loss: 0.7411 - acc: 0.7066 - val_loss: 9.3883 - val_acc: 0.4159\n",
      "Epoch 15/100\n",
      "69/69 [==============================] - 28s 407ms/step - loss: 0.7095 - acc: 0.7203 - val_loss: 9.3132 - val_acc: 0.4144\n",
      "Epoch 16/100\n",
      "69/69 [==============================] - 28s 411ms/step - loss: 0.7572 - acc: 0.7161 - val_loss: 9.1288 - val_acc: 0.4330\n",
      "Epoch 17/100\n",
      "69/69 [==============================] - 29s 418ms/step - loss: 0.7751 - acc: 0.6920 - val_loss: 9.3399 - val_acc: 0.4130\n",
      "Epoch 18/100\n",
      "69/69 [==============================] - 29s 427ms/step - loss: 0.7272 - acc: 0.7229 - val_loss: 9.0799 - val_acc: 0.4335\n",
      "Epoch 19/100\n",
      "69/69 [==============================] - 31s 448ms/step - loss: 0.7434 - acc: 0.7093 - val_loss: 8.9201 - val_acc: 0.4465\n",
      "Epoch 20/100\n",
      "69/69 [==============================] - 28s 410ms/step - loss: 0.7483 - acc: 0.7059 - val_loss: 9.0160 - val_acc: 0.4382\n",
      "Epoch 21/100\n",
      "69/69 [==============================] - 29s 424ms/step - loss: 0.7557 - acc: 0.6999 - val_loss: 9.9309 - val_acc: 0.3826\n",
      "Epoch 22/100\n",
      "69/69 [==============================] - 30s 433ms/step - loss: 0.7381 - acc: 0.7224 - val_loss: 9.1680 - val_acc: 0.4297\n",
      "Epoch 23/100\n",
      "69/69 [==============================] - 29s 419ms/step - loss: 0.7465 - acc: 0.7111 - val_loss: 9.2523 - val_acc: 0.4221\n",
      "Epoch 24/100\n",
      "69/69 [==============================] - 31s 445ms/step - loss: 0.7479 - acc: 0.7182 - val_loss: 8.7886 - val_acc: 0.4501\n",
      "Epoch 25/100\n",
      "69/69 [==============================] - 31s 446ms/step - loss: 0.7283 - acc: 0.7145 - val_loss: 9.0756 - val_acc: 0.4315\n",
      "Epoch 26/100\n",
      "69/69 [==============================] - 31s 449ms/step - loss: 0.7167 - acc: 0.7188 - val_loss: 8.8528 - val_acc: 0.4472\n",
      "Epoch 27/100\n",
      "69/69 [==============================] - 29s 413ms/step - loss: 0.7419 - acc: 0.7074 - val_loss: 10.0195 - val_acc: 0.3774\n",
      "Epoch 28/100\n",
      "69/69 [==============================] - 28s 405ms/step - loss: 0.7655 - acc: 0.7011 - val_loss: 9.2544 - val_acc: 0.4225\n",
      "Epoch 29/100\n",
      "69/69 [==============================] - 28s 409ms/step - loss: 0.7236 - acc: 0.7266 - val_loss: 8.6025 - val_acc: 0.4596\n",
      "Epoch 30/100\n",
      "69/69 [==============================] - 29s 420ms/step - loss: 0.7441 - acc: 0.6910 - val_loss: 9.3334 - val_acc: 0.4202\n",
      "Epoch 31/100\n",
      "69/69 [==============================] - 30s 440ms/step - loss: 0.7274 - acc: 0.7241 - val_loss: 8.6618 - val_acc: 0.4601\n",
      "Epoch 32/100\n",
      "69/69 [==============================] - 30s 436ms/step - loss: 0.7463 - acc: 0.7046 - val_loss: 9.1500 - val_acc: 0.4244\n",
      "Epoch 33/100\n",
      "69/69 [==============================] - 31s 446ms/step - loss: 0.7192 - acc: 0.7142 - val_loss: 8.5350 - val_acc: 0.4634\n",
      "Epoch 34/100\n",
      "69/69 [==============================] - 29s 416ms/step - loss: 0.7142 - acc: 0.7225 - val_loss: 9.1488 - val_acc: 0.4320\n",
      "Epoch 35/100\n",
      "69/69 [==============================] - 30s 428ms/step - loss: 0.7142 - acc: 0.7169 - val_loss: 8.9170 - val_acc: 0.4439\n",
      "Epoch 36/100\n",
      "69/69 [==============================] - 29s 420ms/step - loss: 0.6990 - acc: 0.7272 - val_loss: 9.0203 - val_acc: 0.4339\n",
      "Epoch 37/100\n",
      "69/69 [==============================] - 29s 424ms/step - loss: 0.7101 - acc: 0.7246 - val_loss: 9.0735 - val_acc: 0.4319\n",
      "Epoch 38/100\n",
      "69/69 [==============================] - 30s 434ms/step - loss: 0.6957 - acc: 0.7347 - val_loss: 9.5936 - val_acc: 0.4007\n",
      "Epoch 39/100\n",
      "69/69 [==============================] - 30s 432ms/step - loss: 0.7189 - acc: 0.7182 - val_loss: 9.8749 - val_acc: 0.3850\n",
      "Epoch 40/100\n",
      "69/69 [==============================] - 28s 406ms/step - loss: 0.7125 - acc: 0.7246 - val_loss: 9.6519 - val_acc: 0.3964\n",
      "Epoch 41/100\n",
      "69/69 [==============================] - 28s 412ms/step - loss: 0.7089 - acc: 0.7292 - val_loss: 9.8224 - val_acc: 0.3902\n",
      "Epoch 42/100\n",
      "69/69 [==============================] - 28s 406ms/step - loss: 0.6784 - acc: 0.7406 - val_loss: 8.9622 - val_acc: 0.4382\n",
      "Epoch 43/100\n",
      "69/69 [==============================] - 29s 422ms/step - loss: 0.7142 - acc: 0.7271 - val_loss: 8.7563 - val_acc: 0.4531\n",
      "Epoch 44/100\n",
      "69/69 [==============================] - 28s 408ms/step - loss: 0.7020 - acc: 0.7365 - val_loss: 9.2513 - val_acc: 0.4244\n",
      "Epoch 45/100\n",
      "69/69 [==============================] - 28s 405ms/step - loss: 0.7011 - acc: 0.7352 - val_loss: 8.6272 - val_acc: 0.4606\n",
      "Epoch 46/100\n",
      "69/69 [==============================] - 28s 404ms/step - loss: 0.7226 - acc: 0.7175 - val_loss: 9.0263 - val_acc: 0.4382\n",
      "Epoch 47/100\n",
      "69/69 [==============================] - 31s 450ms/step - loss: 0.7062 - acc: 0.7244 - val_loss: 9.7170 - val_acc: 0.3940\n",
      "Epoch 48/100\n",
      "69/69 [==============================] - 29s 427ms/step - loss: 0.7206 - acc: 0.7184 - val_loss: 9.9456 - val_acc: 0.3788\n",
      "Epoch 49/100\n",
      "69/69 [==============================] - 28s 411ms/step - loss: 0.6716 - acc: 0.7370 - val_loss: 9.5079 - val_acc: 0.4080\n",
      "Epoch 50/100\n",
      "69/69 [==============================] - 29s 413ms/step - loss: 0.6827 - acc: 0.7255 - val_loss: 9.7210 - val_acc: 0.3945\n",
      "Epoch 51/100\n",
      "69/69 [==============================] - 30s 429ms/step - loss: 0.7172 - acc: 0.7235 - val_loss: 9.7341 - val_acc: 0.3878\n",
      "Epoch 52/100\n",
      "69/69 [==============================] - 30s 429ms/step - loss: 0.6950 - acc: 0.7250 - val_loss: 9.0434 - val_acc: 0.4344\n",
      "Epoch 53/100\n",
      "69/69 [==============================] - 28s 409ms/step - loss: 0.7049 - acc: 0.7338 - val_loss: 9.0538 - val_acc: 0.4349\n",
      "Epoch 54/100\n",
      "69/69 [==============================] - 28s 408ms/step - loss: 0.6690 - acc: 0.7420 - val_loss: 9.3947 - val_acc: 0.4097\n",
      "Epoch 55/100\n",
      "69/69 [==============================] - 28s 405ms/step - loss: 0.6658 - acc: 0.7374 - val_loss: 9.0100 - val_acc: 0.4357\n",
      "Epoch 56/100\n",
      "69/69 [==============================] - 29s 414ms/step - loss: 0.6415 - acc: 0.7432 - val_loss: 10.0753 - val_acc: 0.3740\n",
      "Epoch 57/100\n",
      "69/69 [==============================] - 28s 411ms/step - loss: 0.6860 - acc: 0.7261 - val_loss: 8.9407 - val_acc: 0.4430\n",
      "Epoch 58/100\n",
      "69/69 [==============================] - 29s 424ms/step - loss: 0.6924 - acc: 0.7479 - val_loss: 9.3170 - val_acc: 0.4159\n",
      "Epoch 59/100\n",
      "69/69 [==============================] - 29s 418ms/step - loss: 0.6903 - acc: 0.7292 - val_loss: 9.9787 - val_acc: 0.3736\n",
      "Epoch 60/100\n",
      "69/69 [==============================] - 29s 414ms/step - loss: 0.6467 - acc: 0.7448 - val_loss: 10.6947 - val_acc: 0.3356\n",
      "Epoch 61/100\n",
      "69/69 [==============================] - 29s 416ms/step - loss: 0.6904 - acc: 0.7351 - val_loss: 9.4643 - val_acc: 0.4094\n"
     ]
    },
    {
     "name": "stdout",
     "output_type": "stream",
     "text": [
      "Epoch 62/100\n",
      "69/69 [==============================] - 29s 417ms/step - loss: 0.6822 - acc: 0.7230 - val_loss: 10.5485 - val_acc: 0.3436\n",
      "Epoch 63/100\n",
      "69/69 [==============================] - 29s 427ms/step - loss: 0.6809 - acc: 0.7341 - val_loss: 10.3962 - val_acc: 0.3503\n",
      "Epoch 64/100\n",
      "69/69 [==============================] - 29s 420ms/step - loss: 0.6729 - acc: 0.7424 - val_loss: 8.5418 - val_acc: 0.4701\n",
      "Epoch 65/100\n",
      "69/69 [==============================] - 29s 415ms/step - loss: 0.7031 - acc: 0.7201 - val_loss: 9.1876 - val_acc: 0.4268\n",
      "Epoch 66/100\n",
      "69/69 [==============================] - 29s 416ms/step - loss: 0.6529 - acc: 0.7488 - val_loss: 8.7190 - val_acc: 0.4567\n",
      "Epoch 67/100\n",
      "69/69 [==============================] - 29s 426ms/step - loss: 0.6578 - acc: 0.7432 - val_loss: 9.4278 - val_acc: 0.4141\n",
      "Epoch 68/100\n",
      "69/69 [==============================] - 28s 408ms/step - loss: 0.6476 - acc: 0.7471 - val_loss: 9.1745 - val_acc: 0.4273\n",
      "Epoch 69/100\n",
      "69/69 [==============================] - 29s 415ms/step - loss: 0.6884 - acc: 0.7283 - val_loss: 8.7672 - val_acc: 0.4520\n",
      "Epoch 70/100\n",
      "69/69 [==============================] - 29s 415ms/step - loss: 0.6745 - acc: 0.7383 - val_loss: 9.3813 - val_acc: 0.4130\n",
      "Epoch 71/100\n",
      "69/69 [==============================] - 28s 410ms/step - loss: 0.6653 - acc: 0.7488 - val_loss: 9.4023 - val_acc: 0.4163\n",
      "Epoch 72/100\n",
      "69/69 [==============================] - 29s 423ms/step - loss: 0.6738 - acc: 0.7360 - val_loss: 9.0295 - val_acc: 0.4377\n",
      "Epoch 73/100\n",
      "69/69 [==============================] - 33s 482ms/step - loss: 0.6882 - acc: 0.7333 - val_loss: 9.3521 - val_acc: 0.4150\n",
      "Epoch 74/100\n",
      "69/69 [==============================] - 31s 454ms/step - loss: 0.6670 - acc: 0.7505 - val_loss: 9.9794 - val_acc: 0.3774\n",
      "Epoch 75/100\n",
      "69/69 [==============================] - 31s 444ms/step - loss: 0.6858 - acc: 0.7357 - val_loss: 9.4284 - val_acc: 0.4144\n",
      "Epoch 76/100\n",
      "69/69 [==============================] - 29s 415ms/step - loss: 0.6556 - acc: 0.7508 - val_loss: 9.0581 - val_acc: 0.4354\n",
      "Epoch 77/100\n",
      "69/69 [==============================] - 27s 397ms/step - loss: 0.6982 - acc: 0.7225 - val_loss: 9.2488 - val_acc: 0.4221\n",
      "Epoch 78/100\n",
      "69/69 [==============================] - 29s 416ms/step - loss: 0.6421 - acc: 0.7515 - val_loss: 8.7989 - val_acc: 0.4491\n",
      "Epoch 79/100\n",
      "69/69 [==============================] - 28s 407ms/step - loss: 0.6203 - acc: 0.7532 - val_loss: 9.8165 - val_acc: 0.3897\n",
      "Epoch 80/100\n",
      "69/69 [==============================] - 30s 431ms/step - loss: 0.6628 - acc: 0.7429 - val_loss: 10.4843 - val_acc: 0.3455\n",
      "Epoch 81/100\n",
      "69/69 [==============================] - 28s 406ms/step - loss: 0.6546 - acc: 0.7429 - val_loss: 9.4686 - val_acc: 0.4097\n",
      "Epoch 82/100\n",
      "69/69 [==============================] - 29s 416ms/step - loss: 0.6445 - acc: 0.7441 - val_loss: 9.0095 - val_acc: 0.4363\n",
      "Epoch 83/100\n",
      "69/69 [==============================] - 30s 428ms/step - loss: 0.6224 - acc: 0.7679 - val_loss: 9.7803 - val_acc: 0.3893\n",
      "Epoch 84/100\n",
      "69/69 [==============================] - 29s 420ms/step - loss: 0.6231 - acc: 0.7624 - val_loss: 9.2657 - val_acc: 0.4173\n",
      "Epoch 85/100\n",
      "69/69 [==============================] - 29s 421ms/step - loss: 0.6577 - acc: 0.7370 - val_loss: 8.8672 - val_acc: 0.4460\n",
      "Epoch 86/100\n",
      "69/69 [==============================] - 29s 413ms/step - loss: 0.6465 - acc: 0.7538 - val_loss: 10.0885 - val_acc: 0.3683\n",
      "Epoch 87/100\n",
      "69/69 [==============================] - 30s 430ms/step - loss: 0.6621 - acc: 0.7411 - val_loss: 9.3786 - val_acc: 0.4168\n",
      "Epoch 88/100\n",
      "69/69 [==============================] - 29s 426ms/step - loss: 0.6761 - acc: 0.7443 - val_loss: 9.6847 - val_acc: 0.3959\n",
      "Epoch 89/100\n",
      "69/69 [==============================] - 29s 415ms/step - loss: 0.6200 - acc: 0.7609 - val_loss: 9.3459 - val_acc: 0.4187\n",
      "Epoch 90/100\n",
      "69/69 [==============================] - 29s 417ms/step - loss: 0.6513 - acc: 0.7485 - val_loss: 9.6979 - val_acc: 0.3964\n",
      "Epoch 91/100\n",
      "69/69 [==============================] - 29s 425ms/step - loss: 0.6252 - acc: 0.7623 - val_loss: 9.3348 - val_acc: 0.4197\n",
      "Epoch 92/100\n",
      "69/69 [==============================] - 29s 413ms/step - loss: 0.6680 - acc: 0.7447 - val_loss: 9.4017 - val_acc: 0.4116\n",
      "Epoch 93/100\n",
      "69/69 [==============================] - 28s 401ms/step - loss: 0.6361 - acc: 0.7544 - val_loss: 9.4008 - val_acc: 0.4130\n",
      "Epoch 94/100\n",
      "69/69 [==============================] - 28s 406ms/step - loss: 0.6489 - acc: 0.7538 - val_loss: 8.9877 - val_acc: 0.4411\n",
      "Epoch 95/100\n",
      "69/69 [==============================] - 29s 418ms/step - loss: 0.6577 - acc: 0.7497 - val_loss: 9.2021 - val_acc: 0.4259\n",
      "Epoch 96/100\n",
      "69/69 [==============================] - 28s 411ms/step - loss: 0.6646 - acc: 0.7481 - val_loss: 9.1580 - val_acc: 0.4287\n",
      "Epoch 97/100\n",
      "69/69 [==============================] - 29s 415ms/step - loss: 0.6514 - acc: 0.7456 - val_loss: 9.1365 - val_acc: 0.4310\n",
      "Epoch 98/100\n",
      "69/69 [==============================] - 29s 414ms/step - loss: 0.6302 - acc: 0.7527 - val_loss: 9.5036 - val_acc: 0.4078\n",
      "Epoch 99/100\n",
      "69/69 [==============================] - 28s 403ms/step - loss: 0.6524 - acc: 0.7509 - val_loss: 9.6682 - val_acc: 0.3954\n",
      "Epoch 100/100\n",
      "69/69 [==============================] - 28s 399ms/step - loss: 0.6331 - acc: 0.7586 - val_loss: 9.2304 - val_acc: 0.4216\n"
     ]
    },
    {
     "data": {
      "text/plain": [
       "<keras.callbacks.History at 0x1aec84bbf88>"
      ]
     },
     "execution_count": 18,
     "metadata": {},
     "output_type": "execute_result"
    }
   ],
   "source": [
    "model.fit_generator(x_train, steps_per_epoch =100, epochs = 100, validation_data = x_test, validation_steps = 63)"
   ]
  },
  {
   "cell_type": "code",
   "execution_count": 19,
   "metadata": {},
   "outputs": [],
   "source": [
    "model.save(\"Skin_Diseases.h5\")"
   ]
  },
  {
   "cell_type": "code",
   "execution_count": null,
   "metadata": {},
   "outputs": [],
   "source": []
  }
 ],
 "metadata": {
  "kernelspec": {
   "name": "python3",
   "display_name": "Python 3.9.6 64-bit"
  },
  "language_info": {
   "codemirror_mode": {
    "name": "ipython",
    "version": 3
   },
   "file_extension": ".py",
   "mimetype": "text/x-python",
   "name": "python",
   "nbconvert_exporter": "python",
   "pygments_lexer": "ipython3",
   "version": "3.9.6"
  },
  "interpreter": {
   "hash": "7a6474b468a2c862a38ba6e038c90e5f0a18a7aae7ba6827ea7be80617cc0fac"
  }
 },
 "nbformat": 4,
 "nbformat_minor": 4
}