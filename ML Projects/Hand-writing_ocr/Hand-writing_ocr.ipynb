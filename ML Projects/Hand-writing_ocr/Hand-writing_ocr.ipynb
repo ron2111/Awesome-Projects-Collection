{
 "cells": [
  {
   "cell_type": "code",
   "execution_count": null,
   "source": [
    "!pip install -q keras-ocr"
   ],
   "outputs": [],
   "metadata": {}
  },
  {
   "cell_type": "code",
   "execution_count": null,
   "source": [
    "import keras_ocr\r\n",
    "import matplotlib.pyplot as plt"
   ],
   "outputs": [],
   "metadata": {}
  },
  {
   "cell_type": "code",
   "execution_count": null,
   "source": [
    "pipeline = keras_ocr.pipeline.Pipeline()"
   ],
   "outputs": [],
   "metadata": {}
  },
  {
   "cell_type": "code",
   "execution_count": null,
   "source": [
    "images = [\r\n",
    "    keras_ocr.tools.read(img) for img in ['//content/WhatsApp Image 2021-09-26 at 09.27.33.jpeg'   #add your image path here\r\n",
    "                                        \r\n",
    "    ]\r\n",
    "]"
   ],
   "outputs": [],
   "metadata": {}
  },
  {
   "cell_type": "code",
   "execution_count": null,
   "source": [
    "len(images)"
   ],
   "outputs": [],
   "metadata": {}
  },
  {
   "cell_type": "code",
   "execution_count": null,
   "source": [
    "plt.figure(figsize = (10,20))\r\n",
    "plt.imshow(images[0])"
   ],
   "outputs": [],
   "metadata": {}
  },
  {
   "cell_type": "code",
   "execution_count": null,
   "source": [
    "plt.figure(figsize = (10,20))\r\n",
    "plt.imshow(images[1])"
   ],
   "outputs": [],
   "metadata": {}
  },
  {
   "cell_type": "code",
   "execution_count": null,
   "source": [
    "prediction_groups = pipeline.recognize(images)\r\n",
    "\r\n",
    "print(prediction_groups)\r\n",
    "#for i in prediction_group[0]:\r\n",
    "  #print(i[0])\r\n",
    "type(prediction_groups)"
   ],
   "outputs": [],
   "metadata": {}
  },
  {
   "cell_type": "code",
   "execution_count": null,
   "source": [
    "fig, axs = plt.subplots(nrows=len(images), figsize=(10, 20))\r\n",
    "for ax, image, predictions in zip(axs, images, prediction_groups):\r\n",
    "    keras_ocr.tools.drawAnnotations(image=image, \r\n",
    "                                    predictions=predictions, \r\n",
    "                                    ax=ax)\r\n",
    "    "
   ],
   "outputs": [],
   "metadata": {}
  }
 ],
 "metadata": {
  "orig_nbformat": 4,
  "language_info": {
   "name": "plaintext"
  }
 },
 "nbformat": 4,
 "nbformat_minor": 2
}